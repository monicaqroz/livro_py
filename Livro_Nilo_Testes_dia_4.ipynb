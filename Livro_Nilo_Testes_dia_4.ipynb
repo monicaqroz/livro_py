{
  "nbformat": 4,
  "nbformat_minor": 0,
  "metadata": {
    "colab": {
      "name": "Livro_Nilo_Testes_dia_4.ipynb",
      "provenance": [],
      "authorship_tag": "ABX9TyNL5cUM+4B4RkjvCu7HAuVL",
      "include_colab_link": true
    },
    "kernelspec": {
      "name": "python3",
      "display_name": "Python 3"
    },
    "language_info": {
      "name": "python"
    }
  },
  "cells": [
    {
      "cell_type": "markdown",
      "metadata": {
        "id": "view-in-github",
        "colab_type": "text"
      },
      "source": [
        "<a href=\"https://colab.research.google.com/github/monicaqroz/livro_py/blob/main/Livro_Nilo_Testes_dia_4.ipynb\" target=\"_parent\"><img src=\"https://colab.research.google.com/assets/colab-badge.svg\" alt=\"Open In Colab\"/></a>"
      ]
    },
    {
      "cell_type": "code",
      "execution_count": 2,
      "metadata": {
        "colab": {
          "base_uri": "https://localhost:8080/"
        },
        "id": "S4RyXWJz7dnO",
        "outputId": "ad5562e8-1417-4d86-8478-0c3eb3091587"
      },
      "outputs": [
        {
          "output_type": "stream",
          "name": "stdout",
          "text": [
            "Primeiro valor: 2\n",
            "Segundo valor: 10\n",
            "O segundo valor é maior!\n"
          ]
        }
      ],
      "source": [
        "a = int(input(\"Primeiro valor: \"))\n",
        "b = int(input(\"Segundo valor: \"))\n",
        "if a > b:\n",
        "  print(\"O primeiro valor é maior!\")\n",
        "if b > a:\n",
        "  print(\"O segundo valor é maior!\")"
      ]
    },
    {
      "cell_type": "code",
      "source": [
        "# Escreva um programa que pergunte a velocidade do carro de um usuário.\n",
        "# Caso ultrapasse ultrapasse 80km/h  exiba a msg de multa. \n",
        "# Valor da multa 5 reais por km acima da 80km/h.\n",
        "velocidade = float(input(\"Qual a velocidade do carro: \"))\n",
        "if velocidade <= 80:\n",
        "  print(\"Parabéns: Você anda em segurança na estrada!\")\n",
        "if velocidade > 80:\n",
        "  multa = (velocidade - 80) * 5\n",
        "  print(\"Você ultrapassou o limite permitido de 80km/h e foi multado em\", multa, \"reais\")"
      ],
      "metadata": {
        "colab": {
          "base_uri": "https://localhost:8080/"
        },
        "id": "qjsU9o8q8XBc",
        "outputId": "99faa759-0190-4113-c559-c95d68426685"
      },
      "execution_count": 5,
      "outputs": [
        {
          "output_type": "stream",
          "name": "stdout",
          "text": [
            "Qual a velocidade do carro: 100\n",
            "Você ultrapassou o limite permitido de 80km/h e foi multado em 100.0 reais\n"
          ]
        }
      ]
    },
    {
      "cell_type": "code",
      "source": [
        "salario = float(input(\"Digite o salário para cálculo do imposto: \"))\n",
        "base = salario\n",
        "imposto = 0\n",
        "if base > 3000:\n",
        "  imposto = imposto + ((base-3000)*0.35)\n",
        "  # base = 3000\n",
        "if base > 1000:\n",
        "  imposto = imposto + ((base-1000)*0.20)\n",
        "print(\" O salário de\", salario, \"terá de imposto\", imposto)"
      ],
      "metadata": {
        "colab": {
          "base_uri": "https://localhost:8080/"
        },
        "id": "-p0LzbsC9c0N",
        "outputId": "c842b4f4-be63-4ef6-db34-0ba600530cea"
      },
      "execution_count": 12,
      "outputs": [
        {
          "output_type": "stream",
          "name": "stdout",
          "text": [
            "Digite o salário para cálculo do imposto: 3000\n",
            " O salário de 3000.0 terá de imposto 400.0\n"
          ]
        }
      ]
    },
    {
      "cell_type": "code",
      "source": [
        "# Escreva um programa que pergunte ao passageiro qual a distancia que irá percorrer.\n",
        "# O preço da passagem será de 0,50 por viagem ate 200 km e 0,45 por mais longas. \n",
        "distancia = float(input(\"Qual a distância da sua viagem: \"))\n",
        "if distancia <= 200:\n",
        "  valor = distancia * 0.50\n",
        "else:\n",
        "  valor = distancia * 0.45\n",
        "print(\"O valor da sua viagem será de: \", valor)"
      ],
      "metadata": {
        "colab": {
          "base_uri": "https://localhost:8080/"
        },
        "id": "o23gyQqM_glx",
        "outputId": "9ec6df6a-bb96-4930-9732-9cd62cc9ca71"
      },
      "execution_count": 14,
      "outputs": [
        {
          "output_type": "stream",
          "name": "stdout",
          "text": [
            "Qual a distância da sua viagem: 600\n",
            "O valor da sua viagem será de:  270.0\n"
          ]
        }
      ]
    }
  ]
}