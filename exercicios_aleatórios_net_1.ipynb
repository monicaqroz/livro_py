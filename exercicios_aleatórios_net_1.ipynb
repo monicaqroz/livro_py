{
  "nbformat": 4,
  "nbformat_minor": 0,
  "metadata": {
    "colab": {
      "name": "exercicios_aleatórios_net_1.ipynb",
      "provenance": [],
      "authorship_tag": "ABX9TyMmfDrB6pBaOmtELGi445jN",
      "include_colab_link": true
    },
    "kernelspec": {
      "name": "python3",
      "display_name": "Python 3"
    },
    "language_info": {
      "name": "python"
    }
  },
  "cells": [
    {
      "cell_type": "markdown",
      "metadata": {
        "id": "view-in-github",
        "colab_type": "text"
      },
      "source": [
        "<a href=\"https://colab.research.google.com/github/monicaqroz/livro_py/blob/main/exercicios_aleat%C3%B3rios_net_1.ipynb\" target=\"_parent\"><img src=\"https://colab.research.google.com/assets/colab-badge.svg\" alt=\"Open In Colab\"/></a>"
      ]
    },
    {
      "cell_type": "code",
      "execution_count": null,
      "metadata": {
        "colab": {
          "base_uri": "https://localhost:8080/"
        },
        "id": "2P5A6dAQV2Vk",
        "outputId": "f7328af7-38f9-4ae8-e71c-0c87cb95f132"
      },
      "outputs": [
        {
          "output_type": "stream",
          "name": "stdout",
          "text": [
            "Alô Mundo!\n"
          ]
        }
      ],
      "source": [
        "#logica para iniciantes\n",
        "#estrutura sequencial\n",
        "#crie um programa que mostre a mesnagem \"Alo Mundo\" na tela. \n",
        "print(\"Alô Mundo!\")"
      ]
    },
    {
      "cell_type": "code",
      "source": [
        "#crie um programa que peça um número e então mostre a mensagem na tela:\n",
        "#O número digitado foi ?\n",
        "numero = int(input(\"Digite um valor para ser exibido na tela: \"))\n",
        "print(\"O número digitado foi de: \", numero)"
      ],
      "metadata": {
        "colab": {
          "base_uri": "https://localhost:8080/"
        },
        "id": "vXZAsRYGWlmE",
        "outputId": "04c277db-5290-4595-bc5d-f75ebd1da3cf"
      },
      "execution_count": null,
      "outputs": [
        {
          "output_type": "stream",
          "name": "stdout",
          "text": [
            "Digite um valor para ser exibido na tela: 10\n",
            "O número digitado foi de:  10\n"
          ]
        }
      ]
    },
    {
      "cell_type": "code",
      "source": [
        "#crie um programa que faça a soma de dois numeros inputados pelo usuário.\n",
        "num1 = int(input(\"Digite o primeiro número para somar: \"))\n",
        "num2 = int(input(\"Digite o segundo número para somar: \"))\n",
        "tot = num1 + num2\n",
        "print(\"A soma dos números foi de: \", tot)"
      ],
      "metadata": {
        "colab": {
          "base_uri": "https://localhost:8080/"
        },
        "id": "2rqN-ABBXFHp",
        "outputId": "947fdbad-0e93-4468-f851-e3fef6dbcbc0"
      },
      "execution_count": null,
      "outputs": [
        {
          "output_type": "stream",
          "name": "stdout",
          "text": [
            "Digite o primeiro número para somar: 10\n",
            "Digite o segundo número para somar: 2\n",
            "A soma dos números foi de:  12\n"
          ]
        }
      ]
    },
    {
      "cell_type": "code",
      "source": [
        "#crie um programa que calcule a média anual, usando 4 notas bimestrais do aluno. \n",
        "nota1 = float(input(\"Digite a nota do 1 bimestre: \"))\n",
        "nota2 = float(input(\"Digite a nota do 2 bimestre: \"))\n",
        "nota3 = float(input(\"Digite a nota do 3 bimestre: \"))\n",
        "nota4 = float(input(\"Digite a nota do 4 bimestre: \"))\n",
        "media = (nota1 + nota2 + nota3 +nota4)/4\n",
        "print(\"A média anual do aluno foi de: \", media)"
      ],
      "metadata": {
        "colab": {
          "base_uri": "https://localhost:8080/"
        },
        "id": "hW1br9uzXyVA",
        "outputId": "d1aa6428-aaf6-4e74-a1e6-31e4b142c682"
      },
      "execution_count": null,
      "outputs": [
        {
          "output_type": "stream",
          "name": "stdout",
          "text": [
            "Digite a nota do 1 bimestre: 8.5\n",
            "Digite a nota do 2 bimestre: 5.9\n",
            "Digite a nota do 3 bimestre: 6.4\n",
            "Digite a nota do 4 bimestre: 3.8\n",
            "A média anual do aluno foi de:  6.15\n"
          ]
        }
      ]
    },
    {
      "cell_type": "code",
      "source": [
        "#crie um programa que converta metros para cm.\n",
        "metro = float(input(\"Digite um valor em metros para ser convertido em cm: \"))\n",
        "tot = metro*100\n",
        "print(\"O valor convertido em centimetros é de: \", tot)"
      ],
      "metadata": {
        "colab": {
          "base_uri": "https://localhost:8080/"
        },
        "id": "cxlVNnkJYolN",
        "outputId": "d7458186-a6ad-4c52-87c4-f6a152631ee9"
      },
      "execution_count": 6,
      "outputs": [
        {
          "output_type": "stream",
          "name": "stdout",
          "text": [
            "Digite um valor em metros para ser convertido em cm: 1\n",
            "O valor convertido em centimetros é de:  100.0\n"
          ]
        }
      ]
    },
    {
      "cell_type": "code",
      "source": [
        "#crie um programa que peça o raio de um circulo e calcule sua área. \n",
        "raio = float(input(\"Qual o raio do circulo: \"))\n",
        "area = 3.14 * (raio)**2\n",
        "print(\"A área do circulo é de: \", area)"
      ],
      "metadata": {
        "colab": {
          "base_uri": "https://localhost:8080/"
        },
        "id": "lTdEO9i-ZWUE",
        "outputId": "8696b1b3-0231-4bdf-e2fe-4dbc76775aa2"
      },
      "execution_count": 8,
      "outputs": [
        {
          "output_type": "stream",
          "name": "stdout",
          "text": [
            "Qual o raio do circulo: 2\n",
            "A área do circulo é de:  12.56\n"
          ]
        }
      ]
    },
    {
      "cell_type": "code",
      "source": [
        "#faça um programa que pergunte quanto voce ganha por hora e o número de horas trabalhadas no mês. \n",
        "#Calcule o total salário. \n",
        "hora = float(input(\"Qual o valor da sua hora aula: \"))\n",
        "tot_horas =float(input(\"Quantas horas você trabalha por mês: \"))\n",
        "salario = hora * tot_horas\n",
        "print(\"Seu salário mensal é de: \", salario)"
      ],
      "metadata": {
        "colab": {
          "base_uri": "https://localhost:8080/"
        },
        "id": "oruYkv7QaF0o",
        "outputId": "278e958a-328d-486b-8806-424317abf35f"
      },
      "execution_count": 9,
      "outputs": [
        {
          "output_type": "stream",
          "name": "stdout",
          "text": [
            "Qual o valor da sua hora aula: 100\n",
            "Quantas horas você trabalha por mês: 160\n",
            "Seu salário mensal é de:  16000.0\n"
          ]
        }
      ]
    }
  ]
}