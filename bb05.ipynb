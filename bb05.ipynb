{
  "nbformat": 4,
  "nbformat_minor": 0,
  "metadata": {
    "colab": {
      "provenance": [],
      "authorship_tag": "ABX9TyPpfquWrfNkXo91ZkxjRf0d",
      "include_colab_link": true
    },
    "kernelspec": {
      "name": "python3",
      "display_name": "Python 3"
    },
    "language_info": {
      "name": "python"
    }
  },
  "cells": [
    {
      "cell_type": "markdown",
      "metadata": {
        "id": "view-in-github",
        "colab_type": "text"
      },
      "source": [
        "<a href=\"https://colab.research.google.com/github/monicaqroz/livro_py/blob/main/bb05.ipynb\" target=\"_parent\"><img src=\"https://colab.research.google.com/assets/colab-badge.svg\" alt=\"Open In Colab\"/></a>"
      ]
    },
    {
      "cell_type": "code",
      "execution_count": 3,
      "metadata": {
        "colab": {
          "base_uri": "https://localhost:8080/"
        },
        "id": "Ohwqb4KigI5M",
        "outputId": "1c9cc335-9515-41f6-da9d-3ba35f7573e4"
      },
      "outputs": [
        {
          "output_type": "stream",
          "name": "stdout",
          "text": [
            "Qual o valor depositado: 1000\n",
            "Qual o valor da taxa de juros 10\n",
            "100.0\n"
          ]
        }
      ],
      "source": [
        "#exe\n",
        "#crie um programa que pergunte o depósito inicial e a taxa de juros poupança\n",
        "#exiba os valores mês a mês para 24 meses\n",
        "#exiba o total do periodo\n",
        "#juros simples por mês\n",
        "\n",
        "deposito = float(input(\"Qual o valor depositado: \"))\n",
        "taxa = float(input(\"Qual o valor da taxa de juros \"))\n",
        "juros_mês = (deposito * taxa * 1)/100\n",
        "print(juros_mês)"
      ]
    },
    {
      "cell_type": "code",
      "source": [
        "#juros simples com tempo variável \n",
        "\n",
        "deposito = float(input(\"Qual o valor depositado: \"))\n",
        "taxa = float(input(\"Qual o valor da taxa de juros \"))\n",
        "tempo = float(input(\"Qual o tempo do empréstimo: \"))\n",
        "juros_mês = (deposito * taxa * tempo)/100\n",
        "print(juros_mês)"
      ],
      "metadata": {
        "colab": {
          "base_uri": "https://localhost:8080/"
        },
        "id": "xc5bYQZwj3Dj",
        "outputId": "733f3d4f-8779-4941-df33-6effa0841d22"
      },
      "execution_count": 13,
      "outputs": [
        {
          "output_type": "stream",
          "name": "stdout",
          "text": [
            "Qual o valor depositado: 1000\n",
            "Qual o valor da taxa de juros 10\n",
            "Qual o tempo do empréstimo: 2\n",
            "200.0\n"
          ]
        }
      ]
    },
    {
      "cell_type": "code",
      "source": [
        "#exe poupança\n",
        "#juros compostos \n",
        "deposito = float(input(\"Qual o valor do depósito: \"))\n",
        "taxa = float(input(\"Qual o valor da taxa: \"))\n",
        "mês = 1\n",
        "saldo = deposito\n",
        "while mês <= 24:\n",
        "  saldo = saldo + (saldo * (taxa/100))\n",
        "  print(f\"O saldo do mês {mês} é de : \", saldo)\n",
        "  mês = mês + 1\n",
        "print(\"O total ganho do da poupança é de: \", (saldo - deposito))"
      ],
      "metadata": {
        "colab": {
          "base_uri": "https://localhost:8080/"
        },
        "id": "Xs1dtUS6pk_n",
        "outputId": "d8cb943a-46c6-4b89-d303-033249533836"
      },
      "execution_count": 26,
      "outputs": [
        {
          "output_type": "stream",
          "name": "stdout",
          "text": [
            "Qual o valor do depósito: 1000\n",
            "Qual o valor da taxa: 10\n",
            "O saldo do mês 1 é de :  1100.0\n",
            "O saldo do mês 2 é de :  1210.0\n",
            "O saldo do mês 3 é de :  1331.0\n",
            "O saldo do mês 4 é de :  1464.1\n",
            "O saldo do mês 5 é de :  1610.51\n",
            "O saldo do mês 6 é de :  1771.561\n",
            "O saldo do mês 7 é de :  1948.7170999999998\n",
            "O saldo do mês 8 é de :  2143.5888099999997\n",
            "O saldo do mês 9 é de :  2357.947691\n",
            "O saldo do mês 10 é de :  2593.7424601\n",
            "O saldo do mês 11 é de :  2853.1167061099995\n",
            "O saldo do mês 12 é de :  3138.4283767209995\n",
            "O saldo do mês 13 é de :  3452.2712143930994\n",
            "O saldo do mês 14 é de :  3797.4983358324093\n",
            "O saldo do mês 15 é de :  4177.24816941565\n",
            "O saldo do mês 16 é de :  4594.972986357216\n",
            "O saldo do mês 17 é de :  5054.470284992937\n",
            "O saldo do mês 18 é de :  5559.917313492231\n",
            "O saldo do mês 19 é de :  6115.9090448414545\n",
            "O saldo do mês 20 é de :  6727.4999493256\n",
            "O saldo do mês 21 é de :  7400.24994425816\n",
            "O saldo do mês 22 é de :  8140.274938683976\n",
            "O saldo do mês 23 é de :  8954.302432552373\n",
            "O saldo do mês 24 é de :  9849.73267580761\n",
            "O total ganho do da poupança é de:  8849.73267580761\n"
          ]
        }
      ]
    },
    {
      "cell_type": "code",
      "source": [
        "s = 0\n",
        "while True:\n",
        "  v = int(input(\"Digite um número para somar ou 0 para sair: \"))\n",
        "  if v == 0:\n",
        "    break\n",
        "  s = s + v \n",
        "print(s)"
      ],
      "metadata": {
        "colab": {
          "base_uri": "https://localhost:8080/"
        },
        "id": "bCfJ3ScQsNuI",
        "outputId": "1e11e932-24d1-46b3-961c-d9835fbf2e4c"
      },
      "execution_count": 28,
      "outputs": [
        {
          "output_type": "stream",
          "name": "stdout",
          "text": [
            "Digite um número para somar ou 0 para sair: 10\n",
            "Digite um número para somar ou 0 para sair: 20\n",
            "Digite um número para somar ou 0 para sair: 30\n",
            "Digite um número para somar ou 0 para sair: 0\n",
            "60\n"
          ]
        }
      ]
    },
    {
      "cell_type": "code",
      "source": [
        "s = 0\n",
        "c = 0\n",
        "while True: \n",
        "  num = int(input(\"Digite números para os cálculos: \"))\n",
        "  if num == 0:\n",
        "    break \n",
        "  s = s + num \n",
        "  c = c + 1\n",
        "print(\"A quantidade de números digitados foi de: \", c )\n",
        "print(\"A soma dos números digitados foi de: \", s)\n",
        "print(\"A média dos números digitados foi de : \", (s/c))"
      ],
      "metadata": {
        "colab": {
          "base_uri": "https://localhost:8080/"
        },
        "id": "iljQcgSssq9J",
        "outputId": "3f390ced-c39b-4a34-c49b-f8dbef089db5"
      },
      "execution_count": 29,
      "outputs": [
        {
          "output_type": "stream",
          "name": "stdout",
          "text": [
            "Digite números para os cálculos: 10\n",
            "Digite números para os cálculos: 20\n",
            "Digite números para os cálculos: 30\n",
            "Digite números para os cálculos: 0\n",
            "A quantidade de números digitados foi de:  3\n",
            "A soma dos números digitados foi de:  60\n",
            "A média dos números digitados foi de :  20.0\n"
          ]
        }
      ]
    },
    {
      "cell_type": "code",
      "source": [
        "valor = int(input(\"Digite o valor a pagar: \"))\n",
        "cedulas = 0\n",
        "atual = 50\n",
        "apagar = valor \n",
        "while True:\n",
        "  if atual <= apagar:\n",
        "    apagar = apagar - atual \n",
        "    cedulas = cedulas + 1\n",
        "  else:\n",
        "    print(\"%d cédula(s) de R$%d\" %(cedulas, atual))\n",
        "    if apagar == 0:\n",
        "      break \n",
        "    if atual == 50:\n",
        "      atual = 20\n",
        "    elif atual == 20:\n",
        "      atual = 10\n",
        "    elif atual == 10:\n",
        "      atual = 5\n",
        "    elif atual == 5:\n",
        "      atual = 1\n",
        "    cedulas = 0"
      ],
      "metadata": {
        "colab": {
          "base_uri": "https://localhost:8080/"
        },
        "id": "NWj5yCE1xtvj",
        "outputId": "69e5b353-915e-4568-8b83-c04ba9679428"
      },
      "execution_count": 41,
      "outputs": [
        {
          "output_type": "stream",
          "name": "stdout",
          "text": [
            "Digite o valor a pagar: 1000\n",
            "20 cédula(s) de R$50\n"
          ]
        }
      ]
    }
  ]
}