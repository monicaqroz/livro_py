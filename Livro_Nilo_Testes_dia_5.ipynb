{
  "nbformat": 4,
  "nbformat_minor": 0,
  "metadata": {
    "colab": {
      "name": "Livro_Nilo_Testes_dia_5.ipynb",
      "provenance": [],
      "authorship_tag": "ABX9TyOrY6HSfBZ17vXjB1PRMXWU",
      "include_colab_link": true
    },
    "kernelspec": {
      "name": "python3",
      "display_name": "Python 3"
    },
    "language_info": {
      "name": "python"
    }
  },
  "cells": [
    {
      "cell_type": "markdown",
      "metadata": {
        "id": "view-in-github",
        "colab_type": "text"
      },
      "source": [
        "<a href=\"https://colab.research.google.com/github/monicaqroz/livro_py/blob/main/Livro_Nilo_Testes_dia_5.ipynb\" target=\"_parent\"><img src=\"https://colab.research.google.com/assets/colab-badge.svg\" alt=\"Open In Colab\"/></a>"
      ]
    },
    {
      "cell_type": "code",
      "execution_count": 4,
      "metadata": {
        "colab": {
          "base_uri": "https://localhost:8080/"
        },
        "id": "Aj4RBPW5ubb5",
        "outputId": "a01a309c-d3e2-495d-9826-51cb9c22f347"
      },
      "outputs": [
        {
          "output_type": "stream",
          "name": "stdout",
          "text": [
            "Digite a categoria do produto: 55\n",
            "Digite uma categoria válida entre 1 e 5!\n",
            "O preço do produto é de:  0\n"
          ]
        }
      ],
      "source": [
        "#exemplo\n",
        "categoria = int(input(\"Digite a categoria do produto: \"))\n",
        "if categoria == 1:\n",
        "  preço = 10\n",
        "elif categoria == 2:\n",
        "  preço = 20\n",
        "elif categoria == 3:\n",
        "  preço = 30\n",
        "elif categoria == 4:\n",
        "  preço = 40\n",
        "elif categoria == 5:\n",
        "  preço = 50\n",
        "else:\n",
        "  print(\"Digite uma categoria válida entre 1 e 5!\")\n",
        "  preço = 0\n",
        "print(\"O preço do produto é de: \", preço)"
      ]
    },
    {
      "cell_type": "code",
      "source": [
        "#escreva uma calculadora com a entrada de dois numeros e a operação que o ussuário escolher.\n",
        "num1 = float(input(\"Digite o primeiro número: \"))\n",
        "num2 = float(input(\"Digite o segundo número: \"))\n",
        "oper = str(input(\"Digite a operação que deseja realizar: (+,-,*,/): \"))\n",
        "if oper == \"+\":\n",
        "  tot = num1 + num2\n",
        "elif oper == \"-\":\n",
        "  tot = num1 - num2\n",
        "elif oper == \"/\":\n",
        "  tot = num1 / num2\n",
        "elif oper == \"*\":\n",
        "  tot = num1 * num2\n",
        "else:\n",
        "  print(\"Operação Inválida! Escolha uma operação (+,-,/,*)\")\n",
        "  tot = \"Null\"\n",
        "print(\"O resultado foi de: \", tot)"
      ],
      "metadata": {
        "colab": {
          "base_uri": "https://localhost:8080/"
        },
        "id": "lyzpG7A2vn5R",
        "outputId": "b5685d13-571f-4e4b-b08f-95341b5af2af"
      },
      "execution_count": 17,
      "outputs": [
        {
          "output_type": "stream",
          "name": "stdout",
          "text": [
            "Digite o primeiro número: 10\n",
            "Digite o segundo número: 5\n",
            "Digite a operação que deseja realizar: (+,-,*,/): pp\n",
            "Operação Inválida! Escolha uma operação (+,-,/,*)\n",
            "O resultado foi de:  Null\n"
          ]
        }
      ]
    },
    {
      "cell_type": "code",
      "source": [
        "# emprestimo bancario comprar casa. \n",
        "# valor da casa , salario, anos a pagar.\n",
        "# teste é prestação mensal < 30% salario.\n",
        "print(\"Bem Vindo ao Banco Vou te deixar Pobre!\")\n",
        "\n",
        "imovel = float(input(\"Qual valor do imóvel que será adquirido: \"))\n",
        "anos = int(input(\"Em quantos anos será pago o imovel: \"))\n",
        "salario = float(input(\"Qual o valor do seu salário: \"))\n",
        "\n",
        "prestacao = (imovel/(anos*12))\n",
        "limite_salario = (0.3 * salario)\n",
        "\n",
        "if prestacao <= limite_salario:\n",
        "  print(\"Emprestimo Aprovado!\")\n",
        "else:\n",
        "  print(\"Emprestimo Reprovado! Ultrapassa 30% Salário do Usuário!\")"
      ],
      "metadata": {
        "colab": {
          "base_uri": "https://localhost:8080/"
        },
        "id": "d-45uvEYyGLR",
        "outputId": "7ddd03f0-51f2-4914-fd0a-13be48d974e9"
      },
      "execution_count": 21,
      "outputs": [
        {
          "output_type": "stream",
          "name": "stdout",
          "text": [
            "Bem Vindo ao Banco Vou te deixar Pobre!\n",
            "Qual valor do imóvel que será adquirido: 100000\n",
            "Em quantos anos será pago o imovel: 10\n",
            "Qual o valor do seu salário: 3000\n",
            "Emprestimo Aprovado!\n"
          ]
        }
      ]
    },
    {
      "cell_type": "code",
      "source": [
        "# Preço conta energia \n",
        "# Tabela livro \n",
        "\n",
        "quantidade = float(input(\"Qual a quantidade de energia utilizada: \"))\n",
        "instalacao = str(input(\"Qual o tipo de instalação do local: (R = Residencial, I = Industrial, C = Comercial)\"))\n",
        "\n",
        "if instalacao == \"R\" or instalacao == \"r\":\n",
        "  if quantidade <= 500:\n",
        "    tot = quantidade * 0.40\n",
        "    print(\"O valor é de: \", tot)\n",
        "  else:\n",
        "    tot = quantidade * 0.65\n",
        "    print(\"O valor é de: \", tot)\n",
        "if instalacao == \"I\" or instalacao == \"i\":\n",
        "  if quantidade <= 1000:\n",
        "    tot = quantidade * 0.55\n",
        "    print(\"O valor é de: \", tot)\n",
        "  else:\n",
        "    tot = quantidade * 0.60\n",
        "    print(\"O valor é de: \", tot)\n",
        "if instalacao == \"C\" or instalacao == \"c\":\n",
        "  if quantidade <= 5000:\n",
        "    tot = quantidade * 0.55\n",
        "    print(\"O valor é de: \", tot)\n",
        "  else:\n",
        "    tot = quantidade * 0.60\n",
        "    print(\"O valor é de: \", tot)"
      ],
      "metadata": {
        "colab": {
          "base_uri": "https://localhost:8080/"
        },
        "id": "bu3mQrVB0jLu",
        "outputId": "5c36f1c2-4e92-4017-c765-d67a77af2947"
      },
      "execution_count": 43,
      "outputs": [
        {
          "output_type": "stream",
          "name": "stdout",
          "text": [
            "Qual a quantidade de energia utilizada: 200\n",
            "Qual o tipo de instalação do local: (R = Residencial, I = Industrial, C = Comercial)c\n",
            "O valor é de:  110.00000000000001\n"
          ]
        }
      ]
    }
  ]
}