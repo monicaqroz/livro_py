{
  "nbformat": 4,
  "nbformat_minor": 0,
  "metadata": {
    "colab": {
      "provenance": [],
      "authorship_tag": "ABX9TyNX/SQhF4mlJhPuW/byWk5A",
      "include_colab_link": true
    },
    "kernelspec": {
      "name": "python3",
      "display_name": "Python 3"
    },
    "language_info": {
      "name": "python"
    }
  },
  "cells": [
    {
      "cell_type": "markdown",
      "metadata": {
        "id": "view-in-github",
        "colab_type": "text"
      },
      "source": [
        "<a href=\"https://colab.research.google.com/github/monicaqroz/livro_py/blob/main/bb07.ipynb\" target=\"_parent\"><img src=\"https://colab.research.google.com/assets/colab-badge.svg\" alt=\"Open In Colab\"/></a>"
      ]
    },
    {
      "cell_type": "code",
      "execution_count": 3,
      "metadata": {
        "colab": {
          "base_uri": "https://localhost:8080/"
        },
        "id": "MEePhojBNNpA",
        "outputId": "07534e4c-5181-4ad7-9458-6753555b56e6"
      },
      "outputs": [
        {
          "output_type": "execute_result",
          "data": {
            "text/plain": [
              "['monica']"
            ]
          },
          "metadata": {},
          "execution_count": 3
        }
      ],
      "source": [
        "L = []\n",
        "L.append(\"monica\")\n",
        "L"
      ]
    },
    {
      "cell_type": "code",
      "source": [
        "L.append(\"augusto\")\n",
        "L"
      ],
      "metadata": {
        "colab": {
          "base_uri": "https://localhost:8080/"
        },
        "id": "QI6NT40HOmeB",
        "outputId": "44ae1b2c-c0c7-4339-aa68-409563e2ea5d"
      },
      "execution_count": 4,
      "outputs": [
        {
          "output_type": "execute_result",
          "data": {
            "text/plain": [
              "['monica', 'augusto']"
            ]
          },
          "metadata": {},
          "execution_count": 4
        }
      ]
    },
    {
      "cell_type": "code",
      "source": [
        "len(L)"
      ],
      "metadata": {
        "colab": {
          "base_uri": "https://localhost:8080/"
        },
        "id": "Bmxv2sfhOvET",
        "outputId": "754544f9-494a-481f-d4be-e0096d9fdbe5"
      },
      "execution_count": 5,
      "outputs": [
        {
          "output_type": "execute_result",
          "data": {
            "text/plain": [
              "2"
            ]
          },
          "metadata": {},
          "execution_count": 5
        }
      ]
    },
    {
      "cell_type": "code",
      "source": [
        "#add elementos a lista e imprime a lista \n",
        "L = []\n",
        "while True: \n",
        "  n = int(input(\"Digite um número (0 = sair): \"))\n",
        "  if n == 0:\n",
        "    break\n",
        "  L.append(n)\n",
        "x = 0\n",
        "while x < len(L):\n",
        "  print(L[x])\n",
        "  x = x + 1"
      ],
      "metadata": {
        "colab": {
          "base_uri": "https://localhost:8080/"
        },
        "id": "arZ_KIYHOxVR",
        "outputId": "7f6ca915-fb68-4038-8dde-7e30aec64460"
      },
      "execution_count": 9,
      "outputs": [
        {
          "output_type": "stream",
          "name": "stdout",
          "text": [
            "Digite um número (0 = sair): 3\n",
            "Digite um número (0 = sair): 4\n",
            "Digite um número (0 = sair): 8\n",
            "Digite um número (0 = sair): 9\n",
            "Digite um número (0 = sair): 0\n",
            "3\n",
            "4\n",
            "8\n",
            "9\n"
          ]
        }
      ]
    },
    {
      "cell_type": "code",
      "source": [
        "primeira =[]\n",
        "segunda = []\n",
        "while True:\n",
        "  x = int(input(\"Digite um valor para a primeira lista (0 = sair): \"))\n",
        "  if x == 0:\n",
        "    break\n",
        "  primeira.append(x)\n",
        "while True:\n",
        "  x = int(input(\"Digite um valor para a segunda lista (0 = sair): \"))\n",
        "  if x == 0:\n",
        "    break\n",
        "  segunda.append(x)\n",
        "terceira = primeira[:]\n",
        "terceira.extend(segunda)\n",
        "x = 0\n",
        "while x < len(terceira):\n",
        "  print(f\"{x}: {terceira[x]}\")\n",
        "  x = x + 1"
      ],
      "metadata": {
        "colab": {
          "base_uri": "https://localhost:8080/"
        },
        "id": "qsq56Ny6S3Dd",
        "outputId": "e1f30665-aa70-467b-ae5f-fd1d7972f4b1"
      },
      "execution_count": 22,
      "outputs": [
        {
          "output_type": "stream",
          "name": "stdout",
          "text": [
            "Digite um valor para a primeira lista (0 = sair): 1\n",
            "Digite um valor para a primeira lista (0 = sair): 2\n",
            "Digite um valor para a primeira lista (0 = sair): 0\n",
            "Digite um valor para a segunda lista (0 = sair): 1\n",
            "Digite um valor para a segunda lista (0 = sair): 2\n",
            "Digite um valor para a segunda lista (0 = sair): 0\n",
            "0: 1\n",
            "1: 2\n",
            "2: 1\n",
            "3: 2\n"
          ]
        }
      ]
    },
    {
      "cell_type": "code",
      "source": [
        "primeira =[]\n",
        "segunda = []\n",
        "while True:\n",
        "  x = int(input(\"Digite um valor para a primeira lista (0 = sair): \"))\n",
        "  if x == 0:\n",
        "    break\n",
        "  primeira.append(x)\n",
        "while True:\n",
        "  x = int(input(\"Digite um valor para a segunda lista (0 = sair): \"))\n",
        "  if x == 0:\n",
        "    break\n",
        "  segunda.append(x)\n",
        "terceira = []\n",
        "duas_listas = primeira[:]\n",
        "duas_listas.extend(segunda)\n",
        "x = 0\n",
        "while x < len(duas_listas):\n",
        "  y = 0\n",
        "  while y < len(terceira):\n",
        "    if duas_listas[x] == terceira[y]:\n",
        "      break\n",
        "    y = y + 1\n",
        "  if y == len(terceira):\n",
        "    terceira.append(duas_listas[x])\n",
        "  x = x + 1\n",
        "x = 0\n",
        "while x < len(terceira):\n",
        "  print(f\"{x}: {terceira[x]}\")\n",
        "  x = x + 1"
      ],
      "metadata": {
        "colab": {
          "base_uri": "https://localhost:8080/"
        },
        "id": "hDebc582UuxU",
        "outputId": "51eda86b-183c-49b5-f87a-3622263279bb"
      },
      "execution_count": 23,
      "outputs": [
        {
          "output_type": "stream",
          "name": "stdout",
          "text": [
            "Digite um valor para a primeira lista (0 = sair): 1\n",
            "Digite um valor para a primeira lista (0 = sair): 2\n",
            "Digite um valor para a primeira lista (0 = sair): 0\n",
            "Digite um valor para a segunda lista (0 = sair): 3\n",
            "Digite um valor para a segunda lista (0 = sair): 4\n",
            "Digite um valor para a segunda lista (0 = sair): 2\n",
            "Digite um valor para a segunda lista (0 = sair): 0\n",
            "0: 1\n",
            "1: 2\n",
            "2: 3\n",
            "3: 4\n"
          ]
        }
      ]
    }
  ]
}