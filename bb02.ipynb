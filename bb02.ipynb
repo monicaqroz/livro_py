{
  "nbformat": 4,
  "nbformat_minor": 0,
  "metadata": {
    "colab": {
      "provenance": [],
      "authorship_tag": "ABX9TyN2LyfNNE/pebRnlQdCichS",
      "include_colab_link": true
    },
    "kernelspec": {
      "name": "python3",
      "display_name": "Python 3"
    },
    "language_info": {
      "name": "python"
    }
  },
  "cells": [
    {
      "cell_type": "markdown",
      "metadata": {
        "id": "view-in-github",
        "colab_type": "text"
      },
      "source": [
        "<a href=\"https://colab.research.google.com/github/monicaqroz/livro_py/blob/main/bb02.ipynb\" target=\"_parent\"><img src=\"https://colab.research.google.com/assets/colab-badge.svg\" alt=\"Open In Colab\"/></a>"
      ]
    },
    {
      "cell_type": "code",
      "execution_count": 6,
      "metadata": {
        "colab": {
          "base_uri": "https://localhost:8080/"
        },
        "id": "S0NwUidTvSIK",
        "outputId": "6a7af915-1709-483b-a220-fb30eb12243a"
      },
      "outputs": [
        {
          "name": "stdout",
          "output_type": "stream",
          "text": [
            "Informe seu rendimento: 1000\n"
          ]
        },
        {
          "output_type": "execute_result",
          "data": {
            "text/plain": [
              "False"
            ]
          },
          "metadata": {},
          "execution_count": 6
        }
      ],
      "source": [
        "#exe\n",
        "#escreva uma expressão para verificar v ou f para pgto imposto de 1200\n",
        "salario = float(input(\"Informe seu rendimento: \"))\n",
        "teto = 1200\n",
        "salario > teto"
      ]
    },
    {
      "cell_type": "code",
      "source": [
        "#exe\n",
        "#media escolar de tres matérias com limite aprovado 7 em todas\n",
        "materia1 = float(input(\"Nota de matemática: \"))\n",
        "materia2 = float(input(\"Nota de portuês: \"))\n",
        "materia3 = float(input(\"Nota de ciências: \"))\n",
        "materia1 > 7 and materia2 > 7 and materia3 > 7"
      ],
      "metadata": {
        "colab": {
          "base_uri": "https://localhost:8080/"
        },
        "id": "woyor9qyxZLE",
        "outputId": "ecc5f26c-5f6d-462c-9786-afb99914c657"
      },
      "execution_count": 12,
      "outputs": [
        {
          "name": "stdout",
          "output_type": "stream",
          "text": [
            "Nota de matemática: 9\n",
            "Nota de portuês: 9\n",
            "Nota de ciências: 9\n"
          ]
        },
        {
          "output_type": "execute_result",
          "data": {
            "text/plain": [
              "True"
            ]
          },
          "metadata": {},
          "execution_count": 12
        }
      ]
    },
    {
      "cell_type": "code",
      "source": [
        "#exe\n",
        "#crie um programa que peça dois numeros inteiros e imprima a soma na tela \n",
        "num1 = int(input(\"Digite o primeiro número inteiro: \"))\n",
        "num2 = int(input(\"Digite o segundo número inteiro: \"))\n",
        "soma = (num1 + num2)\n",
        "print(\"A soma dos números foi de: \", soma)"
      ],
      "metadata": {
        "colab": {
          "base_uri": "https://localhost:8080/"
        },
        "id": "UEpj94hhybzz",
        "outputId": "7f88bc5a-e21b-4e15-cb1f-1783fa2b1445"
      },
      "execution_count": 15,
      "outputs": [
        {
          "output_type": "stream",
          "name": "stdout",
          "text": [
            "Digite o primeiro número inteiro: 10\n",
            "Digite o segundo número inteiro: 60\n",
            "A soma dos números foi de:  70\n"
          ]
        }
      ]
    },
    {
      "cell_type": "code",
      "source": [
        "#exe\n",
        "#crie um programa que pede um dado em m e exibe em mm\n",
        "numero = float(input(\"Digite um valor em metro para conversão em milimetro: \"))\n",
        "conversão = (numero*1000)\n",
        "print(\"O resultado do valor: \", numero, \"convertido é de: \", conversão)"
      ],
      "metadata": {
        "colab": {
          "base_uri": "https://localhost:8080/"
        },
        "id": "-b-jgmihza6H",
        "outputId": "ff1bb708-571d-4341-869d-c1707cc701a7"
      },
      "execution_count": 17,
      "outputs": [
        {
          "output_type": "stream",
          "name": "stdout",
          "text": [
            "Digite um valor em metro para conversão em milimetro: 100\n",
            "O resultado do valor:  100.0 convertido é de:  100000.0\n"
          ]
        }
      ]
    },
    {
      "cell_type": "code",
      "source": [
        "#exe\n",
        "#crie um programa para dia hora minuto e segundo e converta tudo para segundos\n",
        "dia = int(input(\"Digite a quantidade de dias: \"))\n",
        "hora = float(input(\"Digite o número de horas: \"))\n",
        "minuto = float(input(\"Digite o numero de minutos: \"))\n",
        "segundo = float(input(\"Digite o número de segundos: \"))\n",
        "calculo = ((dia * 86400)+(hora * 3600)+(minuto *60)+(segundo))\n",
        "print(\"O valor convertido é de: \", calculo)"
      ],
      "metadata": {
        "colab": {
          "base_uri": "https://localhost:8080/"
        },
        "id": "nU0hVEsJ0PMT",
        "outputId": "7b224551-886f-47b0-e13d-447af4de56cf"
      },
      "execution_count": 18,
      "outputs": [
        {
          "output_type": "stream",
          "name": "stdout",
          "text": [
            "Digite a quantidade de dias: 1\n",
            "Digite o número de horas: 1\n",
            "Digite o numero de minutos: 1\n",
            "Digite o número de segundos: 1\n",
            "O valor convertido é de:  90061.0\n"
          ]
        }
      ]
    },
    {
      "cell_type": "code",
      "source": [
        "#exe\n",
        "#crie um programa para aumento de salario\n",
        "salario = float(input(\"Digite o valor do seu salario: \"))\n",
        "aumento = float(input(\"Qual a porcentagem de aumento: \"))\n",
        "acrescimo = (salario * aumento/100)\n",
        "salario_new = salario + acrescimo \n",
        "print(\"O valor do aumento é de: \",acrescimo, \",sendo o novo salário de: \",salario_new)"
      ],
      "metadata": {
        "colab": {
          "base_uri": "https://localhost:8080/"
        },
        "id": "Yp7QmEbX1YRZ",
        "outputId": "de0c6708-0d78-43af-d1d1-f5c39b380524"
      },
      "execution_count": 21,
      "outputs": [
        {
          "output_type": "stream",
          "name": "stdout",
          "text": [
            "Digite o valor do seu salario: 1000\n",
            "Qual a porcentagem de aumento: 20\n",
            "O valor do aumento é de:  200.0 ,sendo o novo salário de:  1200.0\n"
          ]
        }
      ]
    },
    {
      "cell_type": "code",
      "source": [
        "#exe\n",
        "#crie um programa para saber o valor de uma mercadoria e o % desconto exiba o preço\n",
        "mercadoria = float(input(\"Qual o valor da mecadoria: \"))\n",
        "desconto = float(input(\"Qual o valor do percentual do desconto: \"))\n",
        "preço = (mercadoria - (mercadoria*desconto/100))\n",
        "print(\"O desconto foi de: \", (mercadoria*desconto/100) )\n",
        "print(\"O valor do produto será de: \", preço)"
      ],
      "metadata": {
        "colab": {
          "base_uri": "https://localhost:8080/"
        },
        "id": "DFMO3S_z3Hrq",
        "outputId": "4727deaf-571b-4be1-84ab-62f7d2edc522"
      },
      "execution_count": 23,
      "outputs": [
        {
          "output_type": "stream",
          "name": "stdout",
          "text": [
            "Qual o valor da mecadoria: 100\n",
            "Qual o valor do percentual do desconto: 20\n",
            "O desconto foi de:  20.0\n",
            "O valor do produto será de:  80.0\n"
          ]
        }
      ]
    },
    {
      "cell_type": "code",
      "source": [
        "#exe\n",
        "#crie um programa para o tempo de viagem de carro\n",
        "distancia = float(input(\"Qual a distancia em km a percorrer: \"))\n",
        "velocidade = float(input(\"Qual a velocidade média em km/h no trajeto: \"))\n",
        "tempo = (distancia / velocidade)\n",
        "print(\"O tempo médio gasto na viagem será de \",tempo, \"minutos\")"
      ],
      "metadata": {
        "colab": {
          "base_uri": "https://localhost:8080/"
        },
        "id": "IqbMoXRr4ITh",
        "outputId": "8dba0405-dd1f-493a-80a4-d5833aac81d5"
      },
      "execution_count": 26,
      "outputs": [
        {
          "output_type": "stream",
          "name": "stdout",
          "text": [
            "Qual a distancia em km a percorrer: 100\n",
            "Qual a velocidade média em km/h no trajeto: 80\n",
            "O tempo médio gasto na viagem será de  1.25 minutos\n"
          ]
        }
      ]
    },
    {
      "cell_type": "code",
      "source": [
        "#exe\n",
        "#conversao de temperatura \n",
        "temp_c = float(input(\"Qual valor da temperatura em Manaus: \"))\n",
        "conversao = ((9*temp_c)/5 +32)\n",
        "print(\"O valor em Fahrenheit em Manaus é de : \", conversao)"
      ],
      "metadata": {
        "colab": {
          "base_uri": "https://localhost:8080/"
        },
        "id": "qNbAY-Dy44Fj",
        "outputId": "c059ed18-3e54-4ea8-9f0b-368ad9703946"
      },
      "execution_count": 27,
      "outputs": [
        {
          "output_type": "stream",
          "name": "stdout",
          "text": [
            "Qual valor da temperatura em Manaus: 32\n",
            "O valor em Fahrenheit em Manaus é de :  89.6\n"
          ]
        }
      ]
    }
  ]
}