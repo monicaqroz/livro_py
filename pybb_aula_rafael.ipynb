{
  "nbformat": 4,
  "nbformat_minor": 0,
  "metadata": {
    "colab": {
      "provenance": [],
      "authorship_tag": "ABX9TyNQxN1WH+SJG0RCBVpbDILP",
      "include_colab_link": true
    },
    "kernelspec": {
      "name": "python3",
      "display_name": "Python 3"
    },
    "language_info": {
      "name": "python"
    }
  },
  "cells": [
    {
      "cell_type": "markdown",
      "metadata": {
        "id": "view-in-github",
        "colab_type": "text"
      },
      "source": [
        "<a href=\"https://colab.research.google.com/github/monicaqroz/livro_py/blob/main/pybb_aula_rafael.ipynb\" target=\"_parent\"><img src=\"https://colab.research.google.com/assets/colab-badge.svg\" alt=\"Open In Colab\"/></a>"
      ]
    },
    {
      "cell_type": "code",
      "execution_count": 2,
      "metadata": {
        "colab": {
          "base_uri": "https://localhost:8080/"
        },
        "id": "3SfUN2TzTTqO",
        "outputId": "03cb1098-2e3b-4bcb-843e-d7cba7868c4c"
      },
      "outputs": [
        {
          "output_type": "stream",
          "name": "stdout",
          "text": [
            "[10, 21, 32]\n"
          ]
        }
      ],
      "source": [
        "#py para ciência de dados\n",
        "\n",
        "primeiro = [2,3,4]\n",
        "segundo = [5,7,8]\n",
        "\n",
        "# print(type(primeiro))\n",
        "\n",
        "resultadofinal = []\n",
        "for i in range(len(primeiro)):\n",
        "  resultado = primeiro[i]*segundo[i]\n",
        "  resultadofinal.append(resultado)\n",
        "print(resultadofinal)"
      ]
    },
    {
      "cell_type": "code",
      "source": [
        "import numpy as np "
      ],
      "metadata": {
        "id": "prUIkI65Xb7X"
      },
      "execution_count": 4,
      "outputs": []
    },
    {
      "cell_type": "code",
      "source": [
        "primeiro = [2,3,4]\n",
        "segundo = [5,7,8]\n",
        "\n",
        "# print(type(primeiro))\n",
        "\n",
        "resultadofinal = []\n",
        "for i in range(len(primeiro)):\n",
        "  resultado = primeiro[i]*segundo[i]\n",
        "  resultadofinal.append(resultado)\n",
        "print(resultadofinal)\n",
        "\n",
        "num_primeiro = np.array(primeiro)\n",
        "num_segundo =np.array(segundo)\n",
        "\n",
        "#print(type(primeiro))\n",
        "#print(type(num_primeiro))\n",
        "#print(num_segundo)\n",
        "\n",
        "num_resultado = num_primeiro * num_segundo\n",
        "print(num_resultado)\n",
        "\n",
        "#sintaxe mais facil, melhor perfomance, sem virgulas no vetor\n",
        "#vectorization = ausencia de estruturas de laços e indexação\n",
        "\n",
        "print(num_resultado.ndim)\n",
        "print(num_resultado.size)\n",
        "print(num_resultado.dtype)\n",
        "print(num_resultado.itemsize)\n",
        "\n",
        "print(num_resultado[1:2])\n",
        "\n",
        "teste = np.arange(100)\n",
        "print(teste[5:56:3])"
      ],
      "metadata": {
        "colab": {
          "base_uri": "https://localhost:8080/"
        },
        "id": "wU124F4ZXziQ",
        "outputId": "f5a306d2-b3f5-4e5d-999b-1d42614f3cad"
      },
      "execution_count": 26,
      "outputs": [
        {
          "output_type": "stream",
          "name": "stdout",
          "text": [
            "[10, 21, 32]\n",
            "[10 21 32]\n",
            "1\n",
            "3\n",
            "int64\n",
            "8\n",
            "[21]\n",
            "[ 5  8 11 14 17 20 23 26 29 32 35 38 41 44 47 50 53]\n"
          ]
        }
      ]
    },
    {
      "cell_type": "code",
      "source": [
        "#dimensoes array 1d, 2d, 3d\n",
        "\n",
        "a = np.arange(10)\n",
        "print(a)\n",
        "print(a.ndim)\n",
        "\n",
        "print(\"=============================\")\n",
        "\n",
        "b = np.arange(10).reshape(2,5)\n",
        "print(b)\n",
        "print(b.ndim)\n",
        "print(b[1,3])\n",
        "\n",
        "\n",
        "print(\"=============================\")\n",
        "\n",
        "c = np.arange(24).reshape(2,3,4)\n",
        "print(c)\n",
        "print(c.ndim)"
      ],
      "metadata": {
        "colab": {
          "base_uri": "https://localhost:8080/"
        },
        "id": "DkNrCXyvb0ME",
        "outputId": "8a0feca2-cbd1-491e-cbf6-319f3356d0cc"
      },
      "execution_count": 23,
      "outputs": [
        {
          "output_type": "stream",
          "name": "stdout",
          "text": [
            "[0 1 2 3 4 5 6 7 8 9]\n",
            "1\n",
            "=============================\n",
            "[[0 1 2 3 4]\n",
            " [5 6 7 8 9]]\n",
            "2\n",
            "8\n",
            "=============================\n",
            "[[[ 0  1  2  3]\n",
            "  [ 4  5  6  7]\n",
            "  [ 8  9 10 11]]\n",
            "\n",
            " [[12 13 14 15]\n",
            "  [16 17 18 19]\n",
            "  [20 21 22 23]]]\n",
            "3\n"
          ]
        }
      ]
    },
    {
      "cell_type": "code",
      "source": [
        "import matplotlib as mpl\n",
        "import matplotlib.pyplot as plt\n",
        "\n",
        "\n",
        "plt.plot([1,2,3,4],[1,5,3,9],label =\"vendas\", linestyle=\"dotted\", marker=\"o\",\n",
        "         color=\"r\")\n",
        "\n",
        "# plt.savefig('linha.png')\n",
        "\n",
        "plt.xlabel(\"Dias\")\n",
        "plt.ylabel(\"Vendas\")\n",
        "plt.legend()\n",
        "plt.title(\"Grafico de vendas\")\n",
        "plt.grid()\n",
        "\n",
        "plt.show()"
      ],
      "metadata": {
        "colab": {
          "base_uri": "https://localhost:8080/",
          "height": 295
        },
        "id": "D_p9ZkeudrZC",
        "outputId": "4945d5fd-ea8a-4212-a69f-7fcf3902252b"
      },
      "execution_count": 40,
      "outputs": [
        {
          "output_type": "display_data",
          "data": {
            "text/plain": [
              "<Figure size 432x288 with 1 Axes>"
            ],
            "image/png": "[encoded data removed]"
          },
          "metadata": {
            "needs_background": "light"
          }
        }
      ]
    },
    {
      "cell_type": "code",
      "source": [
        "plt.bar([\"bacen\", \"tcu\", \"bb\"], [10,20,34])\n",
        "plt.bar"
      ],
      "metadata": {
        "colab": {
          "base_uri": "https://localhost:8080/",
          "height": 282
        },
        "id": "CqfzdLwJoEbl",
        "outputId": "0fe546ff-b6f5-445e-bbf5-3218f26326ab"
      },
      "execution_count": 43,
      "outputs": [
        {
          "output_type": "execute_result",
          "data": {
            "text/plain": [
              "<function matplotlib.pyplot.bar(x, height, width=0.8, bottom=None, *, align='center', data=None, **kwargs)>"
            ]
          },
          "metadata": {},
          "execution_count": 43
        },
        {
          "output_type": "display_data",
          "data": {
            "text/plain": [
              "<Figure size 432x288 with 1 Axes>"
            ],
            "image/png": "[encoded data removed]"
          },
          "metadata": {
            "needs_background": "light"
          }
        }
      ]
    },
    {
      "cell_type": "code",
      "source": [
        "plt.pie([10,20,34], labels=[\"bacen\", \"tcu\", \"bb\"])\n",
        "plt.pie"
      ],
      "metadata": {
        "colab": {
          "base_uri": "https://localhost:8080/",
          "height": 300
        },
        "id": "kMld7_K0owyw",
        "outputId": "83dabe16-c84a-4776-fb2e-7b1e2480a0c3"
      },
      "execution_count": 45,
      "outputs": [
        {
          "output_type": "execute_result",
          "data": {
            "text/plain": [
              "<function matplotlib.pyplot.pie(x, explode=None, labels=None, colors=None, autopct=None, pctdistance=0.6, shadow=False, labeldistance=1.1, startangle=0, radius=1, counterclock=True, wedgeprops=None, textprops=None, center=(0, 0), frame=False, rotatelabels=False, *, normalize=True, hatch=None, data=None)>"
            ]
          },
          "metadata": {},
          "execution_count": 45
        },
        {
          "output_type": "display_data",
          "data": {
            "text/plain": [
              "<Figure size 432x288 with 1 Axes>"
            ],
            "image/png": "[encoded data removed]"
          },
          "metadata": {}
        }
      ]
    },
    {
      "cell_type": "code",
      "source": [
        "import pandas as pd\n",
        "\n",
        "lista_python = [10,20,30,40,50]\n",
        "pandas_series = pd.Series(lista_python,[\"dia1\",\"dia2\",\"dia3\", \"dia4\", \"dia5\"])\n",
        "#np_array = np.array(lista_python)\n",
        "#pandas_series = pd.Series(lista_python)\n",
        "\n",
        "print(type(lista_python))\n",
        "print(type(np_array))\n",
        "print(type(pandas_series))\n",
        "\n",
        "print(pandas_series)\n",
        "print(pandas_series[2])\n",
        "print(pandas_series.dia3)\n",
        "\n",
        "print(pandas_series + 1 )"
      ],
      "metadata": {
        "colab": {
          "base_uri": "https://localhost:8080/"
        },
        "id": "3Y7ZMpWcraSe",
        "outputId": "70025982-40cc-4a49-bd07-68b3d2a79d57"
      },
      "execution_count": 56,
      "outputs": [
        {
          "output_type": "stream",
          "name": "stdout",
          "text": [
            "<class 'list'>\n",
            "<class 'numpy.ndarray'>\n",
            "<class 'pandas.core.series.Series'>\n",
            "dia1    10\n",
            "dia2    20\n",
            "dia3    30\n",
            "dia4    40\n",
            "dia5    50\n",
            "dtype: int64\n",
            "30\n",
            "30\n",
            "dia1    11\n",
            "dia2    21\n",
            "dia3    31\n",
            "dia4    41\n",
            "dia5    51\n",
            "dtype: int64\n"
          ]
        }
      ]
    },
    {
      "cell_type": "code",
      "source": [
        "dados_concurso = {\n",
        "    \"banca\":[\"cespe\", \"cesgranrio\"],\n",
        "    \"instituição\": [\"tcu\", \"bb\"],\n",
        "    \"salario\": [25000,3300],\n",
        "    \"data_prova\" : [pd.to_datetime(\"20/01/2018\"),\n",
        "                    pd.to_datetime(\"10/09/2021\")]\n",
        "}\n",
        "\n",
        "tabela_concursos = pd.DataFrame(dados_concurso)\n",
        "print(tabela_concursos)\n",
        "\n",
        "print(tabela_concursos.dtypes)"
      ],
      "metadata": {
        "colab": {
          "base_uri": "https://localhost:8080/"
        },
        "id": "l4cZPDYjugYj",
        "outputId": "3e38c250-5bf8-4a4f-de54-7250db742d09"
      },
      "execution_count": 61,
      "outputs": [
        {
          "output_type": "stream",
          "name": "stdout",
          "text": [
            "        banca instituição  salario data_prova\n",
            "0       cespe         tcu    25000 2018-01-20\n",
            "1  cesgranrio          bb     3300 2021-10-09\n",
            "banca                  object\n",
            "instituição            object\n",
            "salario                 int64\n",
            "data_prova     datetime64[ns]\n",
            "dtype: object\n"
          ]
        },
        {
          "output_type": "stream",
          "name": "stderr",
          "text": [
            "<ipython-input-61-c41ab2e33d76>:5: UserWarning: Parsing '20/01/2018' in DD/MM/YYYY format. Provide format or specify infer_datetime_format=True for consistent parsing.\n",
            "  \"data_prova\" : [pd.to_datetime(\"20/01/2018\"),\n"
          ]
        }
      ]
    },
    {
      "cell_type": "code",
      "source": [
        "alunos = [\n",
        "    [\"Rafael\", 10, True],\n",
        "    [\"Nodico\", 7, True],\n",
        "    [\"Caliman\", 4, False]\n",
        "]\n",
        "\n",
        "escola = pd.DataFrame(alunos, columns=[\"nome\", \"nota\", \"aprovado\"])\n",
        "print(escola)"
      ],
      "metadata": {
        "colab": {
          "base_uri": "https://localhost:8080/"
        },
        "id": "I3e32x4L78bD",
        "outputId": "0be9d1bf-9d80-4179-fb5f-87a79adfe896"
      },
      "execution_count": 64,
      "outputs": [
        {
          "output_type": "stream",
          "name": "stdout",
          "text": [
            "      nome  nota  aprovado\n",
            "0   Rafael    10      True\n",
            "1   Nodico     7      True\n",
            "2  Caliman     4     False\n"
          ]
        }
      ]
    }
  ]
}