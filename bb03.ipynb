{
  "nbformat": 4,
  "nbformat_minor": 0,
  "metadata": {
    "colab": {
      "provenance": [],
      "authorship_tag": "ABX9TyMIn3oSEwi9ucXpYoUi/VO6",
      "include_colab_link": true
    },
    "kernelspec": {
      "name": "python3",
      "display_name": "Python 3"
    },
    "language_info": {
      "name": "python"
    }
  },
  "cells": [
    {
      "cell_type": "markdown",
      "metadata": {
        "id": "view-in-github",
        "colab_type": "text"
      },
      "source": [
        "<a href=\"https://colab.research.google.com/github/monicaqroz/livro_py/blob/main/bb03.ipynb\" target=\"_parent\"><img src=\"https://colab.research.google.com/assets/colab-badge.svg\" alt=\"Open In Colab\"/></a>"
      ]
    },
    {
      "cell_type": "code",
      "execution_count": 3,
      "metadata": {
        "colab": {
          "base_uri": "https://localhost:8080/"
        },
        "id": "1oe6GjUPcjue",
        "outputId": "c5f9aa5d-a16f-48fc-a77c-7ddb619ba085"
      },
      "outputs": [
        {
          "output_type": "stream",
          "name": "stdout",
          "text": [
            "Informe a velocidade do carro: 150\n",
            "Você foi multado em:  350.0 reais.\n"
          ]
        }
      ],
      "source": [
        "#exe\n",
        "#crie um programa que pergunte a velocidade do carro\n",
        "#se > 80km/h usuário multado \n",
        "#valor da multa de 5 reais por km acima de 80\n",
        "velocidade = float(input(\"Informe a velocidade do carro: \"))\n",
        "if velocidade > 80:\n",
        "  valor_multa = ((velocidade-80)*5)\n",
        "  print(\"Você foi multado em: \", valor_multa, \"reais.\")\n",
        "else:\n",
        "  print(\"Você está na velocidade de segurança parabéns!\")"
      ]
    },
    {
      "cell_type": "code",
      "source": [
        "a = float(input(\"Digite o primeiro número:\"))\n",
        "b = float(input(\"Digite o segundo número:\"))\n",
        "c = float(input(\"Digite o terceiro número:\"))\n",
        "maior = a\n",
        "if b > a and b > c:\n",
        "  maior = b \n",
        "if c > a and c > b:\n",
        "  maior = c\n",
        "menor = a\n",
        "if b < a and b < c:\n",
        "  menor = b \n",
        "if c < a and c < b:\n",
        "  menor = c\n",
        "print(\"O maior número digitado é: \", maior)\n",
        "print(\"O menor número digitado é: \", menor)"
      ],
      "metadata": {
        "colab": {
          "base_uri": "https://localhost:8080/"
        },
        "id": "8MJTdpNdecDg",
        "outputId": "14d55d2b-e396-4b14-c1fe-0714a422dbde"
      },
      "execution_count": 9,
      "outputs": [
        {
          "output_type": "stream",
          "name": "stdout",
          "text": [
            "Digite o primeiro número:30\n",
            "Digite o segundo número:20\n",
            "Digite o terceiro número:10\n",
            "O maior número digitado é:  30.0\n",
            "O menor número digitado é:  10.0\n"
          ]
        }
      ]
    },
    {
      "cell_type": "code",
      "source": [
        "#exe\n",
        "#crie um programa  que pergunta o salario\n",
        "#calcula o valor do aumento de salario\n",
        "#1250 > 10%\n",
        "#<1250 >15%\n",
        "salario = float(input(\"Qual o valor do salário: \"))\n",
        "if salario > 1250:\n",
        "  novo_sal = (salario + (salario *0.10))\n",
        "  print(\"O novo salário é de : \", novo_sal)\n",
        "else:\n",
        "  novo_sal = (salario + (salario * 0.15))\n",
        "  print(\"O novo salário é de: \", novo_sal)"
      ],
      "metadata": {
        "colab": {
          "base_uri": "https://localhost:8080/"
        },
        "id": "D5u8vnmCiacr",
        "outputId": "2e658a0a-cd04-4981-e76d-b430cb556df3"
      },
      "execution_count": 12,
      "outputs": [
        {
          "output_type": "stream",
          "name": "stdout",
          "text": [
            "Qual o valor do salário: 1000\n",
            "O novo salário é de:  1150.0\n"
          ]
        }
      ]
    },
    {
      "cell_type": "code",
      "source": [
        "#exe\n",
        "#programa para preço passagem\n",
        "#pergunte a distancia\n",
        "#0.50 por km até 200 km \n",
        "# 0.45 por km > 200 km \n",
        "distancia = float(input(\"Qual a distância da viagem: \"))\n",
        "if distancia <= 200:\n",
        "  valor = (distancia * 0.50)\n",
        "  print(\"O valor da passagem será de: \", valor)\n",
        "else:\n",
        "  valor = (distancia * 0.45)\n",
        "  print(\"O valor da passagem será de: \", valor)"
      ],
      "metadata": {
        "colab": {
          "base_uri": "https://localhost:8080/"
        },
        "id": "7Orxh22ojfKA",
        "outputId": "7bbeb592-c6b0-4624-80e5-c2a923f940bb"
      },
      "execution_count": 14,
      "outputs": [
        {
          "output_type": "stream",
          "name": "stdout",
          "text": [
            "Qual a distância da viagem: 200\n",
            "O valor da passagem será de:  100.0\n"
          ]
        }
      ]
    },
    {
      "cell_type": "code",
      "source": [
        "#exe\n",
        "#crie um programa que solicite dois numeros\n",
        "#pergunte a operação\n",
        "#exiba o resultado na tela \n",
        "num1 = float(input(\"Digite o primeiro número para o cálculo: \"))\n",
        "num2 = float(input(\"Digite o segundo número para o cálculo: \"))\n",
        "operação = str(input(\"Digite a operação a ser realizada (+,-,*,/): \"))\n",
        "if operação == \"+\":\n",
        "  resultado = (num1 + num2)\n",
        "elif operação == \"-\":\n",
        "  resultado = (num1 - num2)\n",
        "elif operação == \"*\":\n",
        "  resultado = (num1 * num2)\n",
        "elif operação == \"/\":\n",
        "  resultado = (num1 / num2)\n",
        "else:\n",
        "    print(\"Operação não encontrada!\")\n",
        "    resultado = 0\n",
        "print(\"O resultado da operação é de: \", resultado)"
      ],
      "metadata": {
        "colab": {
          "base_uri": "https://localhost:8080/"
        },
        "id": "KkYgEdiYkVAV",
        "outputId": "21d5e158-ca4c-478b-c147-5ab7e3382710"
      },
      "execution_count": 21,
      "outputs": [
        {
          "output_type": "stream",
          "name": "stdout",
          "text": [
            "Digite o primeiro número para o cálculo: 10\n",
            "Digite o segundo número para o cálculo: 2\n",
            "Digite a operação a ser realizada (+,-,*,/): 3\n",
            "Operação não encontrada!\n",
            "O resultado da operação é de:  0\n"
          ]
        }
      ]
    },
    {
      "cell_type": "code",
      "source": [
        "#exe\n",
        "#aprovar emprestimo bancario para compra de casa \n",
        "#perguntar o valor da casa \n",
        "#perguntar o salario \n",
        "#perguntar a quantidade de anos a pagar \n",
        "#o valor mensal não pode ser superior a 30% salario\n",
        "#prestação = valor casa / meses a pagar\n",
        "valor_casa = float(input(\"Qual o valor do imóvel: \"))\n",
        "salario = float(input(\"Qual o valor do seu salário: \"))\n",
        "anos = float(input(\"Em quantos anos deseja financiar o imóvel: \"))\n",
        "prestação_base = (valor_casa/(anos*12))\n",
        "porc_salario = (salario*0.3)\n",
        "print(prestação_base)\n",
        "print(porc_salario)\n",
        "if porc_salario > prestação_base:\n",
        "  print(\"Seu emprestimo para o imóvel foi aprovado.\")\n",
        "  print(\"O valor da prestação é de: \", prestação_base)\n",
        "else:\n",
        "  print(\"Seu emprestimo para o imóvel não foi aprovado.\")\n",
        "  print(\"O valor da prestação supera seu limite salarial.\")\n",
        "  print(\"O valor da prestação seria de: \", prestação_base)"
      ],
      "metadata": {
        "colab": {
          "base_uri": "https://localhost:8080/"
        },
        "id": "xwaix7FwmTo8",
        "outputId": "7d66a48e-a9e7-465f-f004-70a8c0b74321"
      },
      "execution_count": 24,
      "outputs": [
        {
          "output_type": "stream",
          "name": "stdout",
          "text": [
            "Qual o valor do imóvel: 1000000\n",
            "Qual o valor do seu salário: 25000\n",
            "Em quantos anos deseja financiar o imóvel: 20\n",
            "4166.666666666667\n",
            "7500.0\n",
            "Seu emprestimo para o imóvel foi aprovado.\n",
            "O valor da prestação é de:  4166.666666666667\n"
          ]
        }
      ]
    }
  ]
}