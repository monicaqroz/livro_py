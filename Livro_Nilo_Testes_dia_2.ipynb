{
  "nbformat": 4,
  "nbformat_minor": 0,
  "metadata": {
    "colab": {
      "name": "Livro_Nilo_Testes_dia_2.ipynb",
      "provenance": [],
      "authorship_tag": "ABX9TyOtWggISNBodcnaKMcxm8nR",
      "include_colab_link": true
    },
    "kernelspec": {
      "name": "python3",
      "display_name": "Python 3"
    },
    "language_info": {
      "name": "python"
    }
  },
  "cells": [
    {
      "cell_type": "markdown",
      "metadata": {
        "id": "view-in-github",
        "colab_type": "text"
      },
      "source": [
        "<a href=\"https://colab.research.google.com/github/monicaqroz/livro_py/blob/main/Livro_Nilo_Testes_dia_2.ipynb\" target=\"_parent\"><img src=\"https://colab.research.google.com/assets/colab-badge.svg\" alt=\"Open In Colab\"/></a>"
      ]
    },
    {
      "cell_type": "code",
      "execution_count": 2,
      "metadata": {
        "colab": {
          "base_uri": "https://localhost:8080/"
        },
        "id": "TwkFXV9B9quM",
        "outputId": "f17d05bc-56c0-4894-e28f-aa4684454d5a"
      },
      "outputs": [
        {
          "output_type": "stream",
          "name": "stdout",
          "text": [
            "Qual seu salário: 1600\n",
            "Você deve pagar imposto!\n"
          ]
        }
      ],
      "source": [
        "# Escreva uma expressão para determinar se uma pessoa deve ou não pagar imposto. Considere que pagam imposto pessoas com salário maior que 1200 reais. \n",
        "\n",
        "salario = float(input(\"Qual seu salário: \" ))\n",
        "imposto = 1400\n",
        "if salario >= imposto:\n",
        "  print(\"Você deve pagar imposto!\")\n",
        "else:\n",
        "  print(\"Você está liberado de pagar imposto!\")"
      ]
    },
    {
      "cell_type": "code",
      "source": [
        "# Escreva uma expressão para decidir se o aluno foi não aprovado. Para ser aprovado todas as matérias do aluno devem ter notas maior que 7. O aluno cursa 3 matérias.\n",
        "\n",
        "materia1 = int(input(\"Qual sua nota na matéria 1 = matemática: \"))\n",
        "materia2 = int(input(\"Qual sua nota na matéria 2 = inglês: \"))\n",
        "materia3 = int(input(\"Qual sua nota na matéria 1 = ciências: \"))\n",
        "if materia1 >= 7 and materia2 >= 7 and materia3 >= 7:\n",
        "  print(\"Aluno Aprovado!\")\n",
        "else:\n",
        "  print(\"Aluno reprovado!\")"
      ],
      "metadata": {
        "colab": {
          "base_uri": "https://localhost:8080/"
        },
        "id": "64_OYvabARvi",
        "outputId": "864370c4-2719-485b-8200-222e2d22efac"
      },
      "execution_count": 4,
      "outputs": [
        {
          "output_type": "stream",
          "name": "stdout",
          "text": [
            "Qual sua nota na matéria 1 = matemática: 8\n",
            "Qual sua nota na matéria 2 = inglês: 9\n",
            "Qual sua nota na matéria 1 = ciências: 7\n",
            "Aluno Aprovado!\n"
          ]
        }
      ]
    },
    {
      "cell_type": "code",
      "source": [
        "# Faça um programa que peça dois números inteiros.Imprima a soma destes dois números na tela.\n",
        "\n",
        "num1 = int(input(\"Digite o primeiro número inteiro: \"))\n",
        "num2 = int(input(\"Digite o segundo número inteiro: \"))\n",
        "soma = num1 + num2\n",
        "print(\"A soma dos dois números é de: \", soma)"
      ],
      "metadata": {
        "colab": {
          "base_uri": "https://localhost:8080/"
        },
        "id": "gX2Y7pfXBv1t",
        "outputId": "2e86711e-9151-4bf9-df70-75df778277b7"
      },
      "execution_count": 6,
      "outputs": [
        {
          "output_type": "stream",
          "name": "stdout",
          "text": [
            "Digite o primeiro número inteiro: 100\n",
            "Digite o segundo número inteiro: 50\n",
            "A soma dos dois números é de:  150\n"
          ]
        }
      ]
    },
    {
      "cell_type": "code",
      "source": [
        "# Escreva um programa que leia um valor em metros e o exiba convertido em milimetros. \n",
        "\n",
        "metros = float(input(\"Digite um valor em metros para conversão em milímetros: \"))\n",
        "conversao = metros*1000\n",
        "print(\"O valor digitado em milímetros é de: \", conversao)"
      ],
      "metadata": {
        "colab": {
          "base_uri": "https://localhost:8080/"
        },
        "id": "pCqzlOukCm1y",
        "outputId": "c5a434a1-e7b6-4ebc-e7ce-c1a0ed339139"
      },
      "execution_count": 8,
      "outputs": [
        {
          "output_type": "stream",
          "name": "stdout",
          "text": [
            "Digite um valor em metros para conversão em milímetros: 1\n",
            "O valor digitado em milímetros é de:  1000.0\n"
          ]
        }
      ]
    },
    {
      "cell_type": "code",
      "source": [
        "# Escreva um programa que leia a quantidade de dias, horas, minutos e segundos do usuário. E calcule o total em segundos. \n",
        "\n",
        "dias = float(input(\"Digite o número de dias: \"))\n",
        "horas = float(input(\"Digite o número de horas: \"))\n",
        "minutos = float(input(\"Digite o número de minutos: \"))\n",
        "segundos = float(input(\"Digite o número de segundos: \"))\n",
        "total = (dias * 86400) + (horas * 3600) + (minutos * 60) + segundos\n",
        "print(\"O total calculado em segundos é de: \", total)"
      ],
      "metadata": {
        "colab": {
          "base_uri": "https://localhost:8080/"
        },
        "id": "8-1EyoB4DSZM",
        "outputId": "001753e3-28f3-40b7-eaa8-fe4a1a12648f"
      },
      "execution_count": 9,
      "outputs": [
        {
          "output_type": "stream",
          "name": "stdout",
          "text": [
            "Digite o número de dias: 1\n",
            "Digite o número de horas: 1\n",
            "Digite o número de minutos: 1\n",
            "Digite o número de segundos: 1\n",
            "O total calculado em segundos é de:  90061.0\n"
          ]
        }
      ]
    }
  ]
}