{
  "nbformat": 4,
  "nbformat_minor": 0,
  "metadata": {
    "colab": {
      "name": "Livro_Nilo_Teste_dia_3.ipynb",
      "provenance": [],
      "authorship_tag": "ABX9TyMtossivdNJzoMEMyfNHiej",
      "include_colab_link": true
    },
    "kernelspec": {
      "name": "python3",
      "display_name": "Python 3"
    },
    "language_info": {
      "name": "python"
    }
  },
  "cells": [
    {
      "cell_type": "markdown",
      "metadata": {
        "id": "view-in-github",
        "colab_type": "text"
      },
      "source": [
        "<a href=\"https://colab.research.google.com/github/monicaqroz/livro_py/blob/main/Livro_Nilo_Teste_dia_3.ipynb\" target=\"_parent\"><img src=\"https://colab.research.google.com/assets/colab-badge.svg\" alt=\"Open In Colab\"/></a>"
      ]
    },
    {
      "cell_type": "code",
      "execution_count": 2,
      "metadata": {
        "colab": {
          "base_uri": "https://localhost:8080/"
        },
        "id": "nqWVVjKTprVN",
        "outputId": "0d4d711f-8a91-46c9-8cd6-ea6e3d5d8fc3"
      },
      "outputs": [
        {
          "output_type": "stream",
          "name": "stdout",
          "text": [
            "Qual o valor do salário atual: 1000\n",
            "Qual a porcentagem do aumento do salário: 10\n",
            "O aumento do salário é de  100.0 e o novo salário será de  1100.0\n"
          ]
        }
      ],
      "source": [
        "# Faça um programa que calcule o aumento de um salário. \n",
        "# Ele deve solicitar o valor do salário e a % de aumento.\n",
        "# Exiba o valor do novo salario e do aumento. \n",
        "\n",
        "salario = float(input(\"Qual o valor do salário atual: \"))\n",
        "porc_aumento = float(input(\"Qual a porcentagem do aumento do salário: \"))\n",
        "aumento = (salario * porc_aumento/100)\n",
        "novo_salario = (salario + aumento)\n",
        "print(\"O aumento do salário é de \", aumento, \"e o novo salário será de \", novo_salario)"
      ]
    },
    {
      "cell_type": "code",
      "source": [
        "# Faça um programa que solicite o preço de uma mercadoria e o percentual de desconto. \n",
        "# Exiba o valor do desconto e o preço a pagar.\n",
        "\n",
        "valor_mercadoria = float(input(\"Qual o valor da mercadoria: \"))\n",
        "perc_desconto = float(input(\"Qual o percentual de desconto: \"))\n",
        "valor_desconto = (valor_mercadoria * perc_desconto/100)\n",
        "mercadoria_nova = (valor_mercadoria - valor_desconto)\n",
        "print(\"O  valor do desconto é de: \", valor_desconto, \"e o valor da mercadoria ficou em: \", mercadoria_nova)"
      ],
      "metadata": {
        "colab": {
          "base_uri": "https://localhost:8080/"
        },
        "id": "6LFccaZfru_F",
        "outputId": "530ef9c3-c58d-4bd7-b6b7-5e8460290e85"
      },
      "execution_count": 3,
      "outputs": [
        {
          "output_type": "stream",
          "name": "stdout",
          "text": [
            "Qual o valor da mercadoria: 1000\n",
            "Qual o percentual de desconto: 10\n",
            "O  valor do desconto é de:  100.0 e o valor da mercadoria ficou em:  900.0\n"
          ]
        }
      ]
    },
    {
      "cell_type": "code",
      "source": [
        "# Escreva um programa que calcule o tempo de viagem de carro. \n",
        "# Pergunte a distância a percorrer e a velocidade média esperada para viagem.\n",
        "\n",
        "distancia = float(input(\"Qual a distância percorrida em (km): \"))\n",
        "velocidade = float(input(\"Qual a velocidade média em (km/h): \"))\n",
        "tempo = (distancia / velocidade)\n",
        "print(\"O tempo de viagem de carro será de: \", tempo, \"horas\")"
      ],
      "metadata": {
        "colab": {
          "base_uri": "https://localhost:8080/"
        },
        "id": "EbzkRkSkuA8u",
        "outputId": "01dc2a98-88ad-459e-d405-89734967cf66"
      },
      "execution_count": 6,
      "outputs": [
        {
          "output_type": "stream",
          "name": "stdout",
          "text": [
            "Qual a distância percorrida em (km): 100\n",
            "Qual a velocidade média em (km/h): 80\n",
            "O tempo de viagem de carro será de:  1.25 horas\n"
          ]
        }
      ]
    },
    {
      "cell_type": "code",
      "source": [
        "# Escreva um programa que calcule a temp em graus F, ela está em graus C. \n",
        "\n",
        "temp = float(input(\"Qual o valor da temperatura no momento: \"))\n",
        "conversao = (9 * temp)/5 +32\n",
        "print(\"O valor da temperatura em graus F é de: \", conversao)"
      ],
      "metadata": {
        "colab": {
          "base_uri": "https://localhost:8080/"
        },
        "id": "jUTh6U8HwMAF",
        "outputId": "33c35396-52f8-412c-9f10-fb7378e719cd"
      },
      "execution_count": 7,
      "outputs": [
        {
          "output_type": "stream",
          "name": "stdout",
          "text": [
            "Qual o valor da temperatura no momento: 32\n",
            "O valor da temperatura em graus F é de:  89.6\n"
          ]
        }
      ]
    },
    {
      "cell_type": "code",
      "source": [
        "# Escreva um programa que pergunte a quantidade de km percorridos por um carro alugado, assim como a quantidade de dias que o carro foi alugado. \n",
        "# Calcule o preço a pagar, sabendo que o carro custa 60 por dia e 0,15 por km rodado. \n",
        "\n",
        "aluguel_dia = float(input(\"Quantidade de dias do carro alugado: \"))\n",
        "km_percorrido = float(input(\"Quilometragem percorrida pelo carro alugado (em km): \"))\n",
        "carro_dia = aluguel_dia * 60\n",
        "km_tot = km_percorrido * 0.15\n",
        "total_aluguel = (carro_dia + km_tot)\n",
        "print(\"O valor total do aluguel é de : \", total_aluguel)"
      ],
      "metadata": {
        "colab": {
          "base_uri": "https://localhost:8080/"
        },
        "id": "dZcSXczBxUWV",
        "outputId": "a653f838-b2af-4933-df7f-a19d2be7e75f"
      },
      "execution_count": 9,
      "outputs": [
        {
          "output_type": "stream",
          "name": "stdout",
          "text": [
            "Quantidade de dias do carro alugado: 1\n",
            "Quilometragem percorrida pelo carro alugado (em km): 1\n",
            "O valor total do aluguel é de :  60.15\n"
          ]
        }
      ]
    },
    {
      "cell_type": "code",
      "source": [
        "# Escreva um programa de redução de vida de um fumante.\n",
        "# Pergunte a quantidade de cigarros fumados por dia e ha quantos anos ele fuma. \n",
        "# Considere que um fumante perde 10 min de vida a cada cigarro, calcule quantos dia de vida o fumante perderá. \n",
        "# Exiba o total em dias. \n",
        "print(\"Você fuma? Vamos calcular sua redução de vida!\")\n",
        "cigarros_dia = float(input(\"Quantos cigarros você fuma por dia: \"))\n",
        "anos_fumo = float(input(\"Há quantos anos você já é fumante: \"))\n",
        "perda_min_dia = (cigarros_dia * 10)\n",
        "perda_min_ano = (perda_min_dia * 365 * anos_fumo)\n",
        "print(\"Fumando há \", anos_fumo, \"anos, você já perdeu \", perda_min_ano,  \"minutos de vida\")"
      ],
      "metadata": {
        "colab": {
          "base_uri": "https://localhost:8080/"
        },
        "id": "cqD7-TjGyv2n",
        "outputId": "5ea6be78-804c-407b-e792-fa3c685fe898"
      },
      "execution_count": 11,
      "outputs": [
        {
          "output_type": "stream",
          "name": "stdout",
          "text": [
            "Você fuma? Vamos calcular sua redução de vida!\n",
            "Quantos cigarros você fuma por dia: 2\n",
            "Há quantos anos você já é fumante: 1\n",
            "Fumando há  1.0 anos, você já perdeu  7300.0 minutos de vida\n"
          ]
        }
      ]
    }
  ]
}