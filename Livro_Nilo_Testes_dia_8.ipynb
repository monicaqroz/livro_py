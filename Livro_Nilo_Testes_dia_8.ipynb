{
  "nbformat": 4,
  "nbformat_minor": 0,
  "metadata": {
    "colab": {
      "name": "Livro_Nilo_Testes_dia_8.ipynb",
      "provenance": [],
      "authorship_tag": "ABX9TyOyCxGjqoN/EBmE01u/lkMu",
      "include_colab_link": true
    },
    "kernelspec": {
      "name": "python3",
      "display_name": "Python 3"
    },
    "language_info": {
      "name": "python"
    }
  },
  "cells": [
    {
      "cell_type": "markdown",
      "metadata": {
        "id": "view-in-github",
        "colab_type": "text"
      },
      "source": [
        "<a href=\"https://colab.research.google.com/github/monicaqroz/livro_py/blob/main/Livro_Nilo_Testes_dia_8.ipynb\" target=\"_parent\"><img src=\"https://colab.research.google.com/assets/colab-badge.svg\" alt=\"Open In Colab\"/></a>"
      ]
    },
    {
      "cell_type": "code",
      "execution_count": 7,
      "metadata": {
        "colab": {
          "base_uri": "https://localhost:8080/"
        },
        "id": "yKlkAGv2wlMm",
        "outputId": "1c6c665e-b577-428c-8dee-ef3118abfd60"
      },
      "outputs": [
        {
          "output_type": "stream",
          "name": "stdout",
          "text": [
            "Qual produto deseja [cógido de 1 à 5]: 1\n",
            "Qual a quantidade desejada: 2\n",
            "Qual produto deseja [cógido de 1 à 5]: 3\n",
            "Qual a quantidade desejada: 2\n",
            "Qual produto deseja [cógido de 1 à 5]: 0\n",
            "O total foi de:  9.0 reais\n"
          ]
        }
      ],
      "source": [
        "#maquina registradora\n",
        "total = 0\n",
        "valor = 0\n",
        "\n",
        "while True:\n",
        "  produto = int(input(\"Qual produto deseja [cógido de 1 à 5]: \"))\n",
        "  if produto == 0:\n",
        "    break\n",
        "  quantidade = int(input(\"Qual a quantidade desejada: \"))\n",
        "  \n",
        "  if produto == 1:\n",
        "    preço = 0.5\n",
        "  elif produto == 2:\n",
        "    preço = 1.0\n",
        "  elif produto == 3:\n",
        "    preço = 4.0\n",
        "  elif produto == 4:\n",
        "    preço = 7.0\n",
        "  elif produto == 5:\n",
        "    preço = 8.0\n",
        "  else:\n",
        "    print(\"Código invalido!\")\n",
        "    preço = 0\n",
        "\n",
        "  valor = quantidade * preço\n",
        "  total = total + valor\n",
        "\n",
        "print(\"O total foi de: \",total, \"reais\")"
      ]
    },
    {
      "cell_type": "code",
      "source": [
        "#contagem de cedulas \n",
        "\n",
        "valor = int(input(\"Digite o valor a pagar: \"))\n",
        "cedulas = 0\n",
        "atual = 50\n",
        "apagar = valor \n",
        "\n",
        "while True:\n",
        "  if atual <= apagar:\n",
        "    apagar = apagar - atual \n",
        "    cedulas = cedulas + 1\n",
        "  else:\n",
        "    print(\"%d cedula(s) de R$%d\" %(cedulas,atual))\n",
        "    if apagar == 0:\n",
        "      break \n",
        "    if atual == 50:\n",
        "      atual = 20\n",
        "    elif atual == 20:\n",
        "      atual = 10\n",
        "    elif atual == 10:\n",
        "      atual = 5\n",
        "    elif atual == 5:\n",
        "      atual = 1\n",
        "    cedulas = 0"
      ],
      "metadata": {
        "colab": {
          "base_uri": "https://localhost:8080/"
        },
        "id": "R2iiEgdo2BEv",
        "outputId": "8f6cfe13-01e5-4ad9-bcd2-96af480e0ae2"
      },
      "execution_count": 12,
      "outputs": [
        {
          "output_type": "stream",
          "name": "stdout",
          "text": [
            "Digite o valor a pagar: 16\n",
            "0 cedula(s) de R$50\n",
            "0 cedula(s) de R$20\n",
            "1 cedula(s) de R$10\n",
            "1 cedula(s) de R$5\n",
            "1 cedula(s) de R$1\n"
          ]
        }
      ]
    },
    {
      "cell_type": "code",
      "source": [
        "#impressão de tabuada \n",
        "tabuada = 1\n",
        "while tabuada <= 10:\n",
        "  numero = 1\n",
        "  while numero <= 10:\n",
        "    print(\"%d x %d = % d\" %(tabuada, numero, tabuada*numero))\n",
        "    numero = numero + 1\n",
        "  tabuada = tabuada + 1"
      ],
      "metadata": {
        "colab": {
          "base_uri": "https://localhost:8080/"
        },
        "id": "gqzbRM-d37Eu",
        "outputId": "5b1e4b10-d415-4ac4-9b81-bea9843e6419"
      },
      "execution_count": 14,
      "outputs": [
        {
          "output_type": "stream",
          "name": "stdout",
          "text": [
            "1 x 1 =  1\n",
            "1 x 2 =  2\n",
            "1 x 3 =  3\n",
            "1 x 4 =  4\n",
            "1 x 5 =  5\n",
            "1 x 6 =  6\n",
            "1 x 7 =  7\n",
            "1 x 8 =  8\n",
            "1 x 9 =  9\n",
            "1 x 10 =  10\n",
            "2 x 1 =  2\n",
            "2 x 2 =  4\n",
            "2 x 3 =  6\n",
            "2 x 4 =  8\n",
            "2 x 5 =  10\n",
            "2 x 6 =  12\n",
            "2 x 7 =  14\n",
            "2 x 8 =  16\n",
            "2 x 9 =  18\n",
            "2 x 10 =  20\n",
            "3 x 1 =  3\n",
            "3 x 2 =  6\n",
            "3 x 3 =  9\n",
            "3 x 4 =  12\n",
            "3 x 5 =  15\n",
            "3 x 6 =  18\n",
            "3 x 7 =  21\n",
            "3 x 8 =  24\n",
            "3 x 9 =  27\n",
            "3 x 10 =  30\n",
            "4 x 1 =  4\n",
            "4 x 2 =  8\n",
            "4 x 3 =  12\n",
            "4 x 4 =  16\n",
            "4 x 5 =  20\n",
            "4 x 6 =  24\n",
            "4 x 7 =  28\n",
            "4 x 8 =  32\n",
            "4 x 9 =  36\n",
            "4 x 10 =  40\n",
            "5 x 1 =  5\n",
            "5 x 2 =  10\n",
            "5 x 3 =  15\n",
            "5 x 4 =  20\n",
            "5 x 5 =  25\n",
            "5 x 6 =  30\n",
            "5 x 7 =  35\n",
            "5 x 8 =  40\n",
            "5 x 9 =  45\n",
            "5 x 10 =  50\n",
            "6 x 1 =  6\n",
            "6 x 2 =  12\n",
            "6 x 3 =  18\n",
            "6 x 4 =  24\n",
            "6 x 5 =  30\n",
            "6 x 6 =  36\n",
            "6 x 7 =  42\n",
            "6 x 8 =  48\n",
            "6 x 9 =  54\n",
            "6 x 10 =  60\n",
            "7 x 1 =  7\n",
            "7 x 2 =  14\n",
            "7 x 3 =  21\n",
            "7 x 4 =  28\n",
            "7 x 5 =  35\n",
            "7 x 6 =  42\n",
            "7 x 7 =  49\n",
            "7 x 8 =  56\n",
            "7 x 9 =  63\n",
            "7 x 10 =  70\n",
            "8 x 1 =  8\n",
            "8 x 2 =  16\n",
            "8 x 3 =  24\n",
            "8 x 4 =  32\n",
            "8 x 5 =  40\n",
            "8 x 6 =  48\n",
            "8 x 7 =  56\n",
            "8 x 8 =  64\n",
            "8 x 9 =  72\n",
            "8 x 10 =  80\n",
            "9 x 1 =  9\n",
            "9 x 2 =  18\n",
            "9 x 3 =  27\n",
            "9 x 4 =  36\n",
            "9 x 5 =  45\n",
            "9 x 6 =  54\n",
            "9 x 7 =  63\n",
            "9 x 8 =  72\n",
            "9 x 9 =  81\n",
            "9 x 10 =  90\n",
            "10 x 1 =  10\n",
            "10 x 2 =  20\n",
            "10 x 3 =  30\n",
            "10 x 4 =  40\n",
            "10 x 5 =  50\n",
            "10 x 6 =  60\n",
            "10 x 7 =  70\n",
            "10 x 8 =  80\n",
            "10 x 9 =  90\n",
            "10 x 10 =  100\n"
          ]
        }
      ]
    }
  ]
}