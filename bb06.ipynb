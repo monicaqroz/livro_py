{
  "nbformat": 4,
  "nbformat_minor": 0,
  "metadata": {
    "colab": {
      "provenance": [],
      "authorship_tag": "ABX9TyPA3hTZaBiOuVzTIrtEtFtc",
      "include_colab_link": true
    },
    "kernelspec": {
      "name": "python3",
      "display_name": "Python 3"
    },
    "language_info": {
      "name": "python"
    }
  },
  "cells": [
    {
      "cell_type": "markdown",
      "metadata": {
        "id": "view-in-github",
        "colab_type": "text"
      },
      "source": [
        "<a href=\"https://colab.research.google.com/github/monicaqroz/livro_py/blob/main/bb06.ipynb\" target=\"_parent\"><img src=\"https://colab.research.google.com/assets/colab-badge.svg\" alt=\"Open In Colab\"/></a>"
      ]
    },
    {
      "cell_type": "code",
      "execution_count": 1,
      "metadata": {
        "id": "MWko2487qQAI"
      },
      "outputs": [],
      "source": [
        "L = []\n",
        "#lista vazia"
      ]
    },
    {
      "cell_type": "code",
      "source": [
        "z = [10,42,50]\n",
        "#tamanho da lista z = 3\n",
        "#[0,1,2] = indices"
      ],
      "metadata": {
        "id": "MOwy4UBnsYZm"
      },
      "execution_count": 3,
      "outputs": []
    },
    {
      "cell_type": "code",
      "source": [
        "z = [10,20,30]\n",
        "z[0]"
      ],
      "metadata": {
        "colab": {
          "base_uri": "https://localhost:8080/"
        },
        "id": "POw2ZNlwstUv",
        "outputId": "b1d43e86-fa42-431e-f3cc-3e8d98e9b3a1"
      },
      "execution_count": 13,
      "outputs": [
        {
          "output_type": "execute_result",
          "data": {
            "text/plain": [
              "10"
            ]
          },
          "metadata": {},
          "execution_count": 13
        }
      ]
    },
    {
      "cell_type": "code",
      "source": [
        "#modificando listas\n",
        "p = [100,200,300]\n",
        "p[0]"
      ],
      "metadata": {
        "colab": {
          "base_uri": "https://localhost:8080/"
        },
        "id": "of7xY5pFtcFZ",
        "outputId": "d9c060a3-0a83-4a08-df25-be5566bc1940"
      },
      "execution_count": 15,
      "outputs": [
        {
          "output_type": "execute_result",
          "data": {
            "text/plain": [
              "100"
            ]
          },
          "metadata": {},
          "execution_count": 15
        }
      ]
    },
    {
      "cell_type": "code",
      "source": [
        "p[0]=500"
      ],
      "metadata": {
        "id": "qGAzRvbOuGnP"
      },
      "execution_count": 16,
      "outputs": []
    },
    {
      "cell_type": "code",
      "source": [
        "p"
      ],
      "metadata": {
        "colab": {
          "base_uri": "https://localhost:8080/"
        },
        "id": "Z76wxY9tuL8X",
        "outputId": "1d22d917-ee13-49e8-a739-ba1de32c9abc"
      },
      "execution_count": 17,
      "outputs": [
        {
          "output_type": "execute_result",
          "data": {
            "text/plain": [
              "[500, 200, 300]"
            ]
          },
          "metadata": {},
          "execution_count": 17
        }
      ]
    },
    {
      "cell_type": "code",
      "source": [
        "#media\n",
        "notas=[8,7,10,8,9]\n",
        "soma = 0\n",
        "x = 0\n",
        "while x < 5:\n",
        "  soma = soma + notas[x]\n",
        "  x = x + 1\n",
        "print(\"Média de: \",(soma/5))"
      ],
      "metadata": {
        "colab": {
          "base_uri": "https://localhost:8080/"
        },
        "id": "Z5rOgyJmuj1Q",
        "outputId": "031a168f-406c-4d92-8daf-ef1051919a37"
      },
      "execution_count": 20,
      "outputs": [
        {
          "output_type": "stream",
          "name": "stdout",
          "text": [
            "Média de:  8.4\n"
          ]
        }
      ]
    },
    {
      "cell_type": "code",
      "source": [
        "notas=[0,0,0,0,0]\n",
        "soma = 0\n",
        "x = 0\n",
        "while x < 5:\n",
        "  notas[x]= float(input(\"Nota %d: \"%x))\n",
        "  soma = soma + notas[x]\n",
        "  x = x + 1\n",
        "x =0\n",
        "while x < 5:\n",
        "  print(\"Nota %d: %6.2f \" %(x,notas[x]))\n",
        "  x = x + 1\n",
        "print(\"Média: \", (soma/x))"
      ],
      "metadata": {
        "colab": {
          "base_uri": "https://localhost:8080/"
        },
        "id": "vfNyCUmzviCU",
        "outputId": "93675fd8-9a83-4c52-9d90-b4c24322da87"
      },
      "execution_count": 24,
      "outputs": [
        {
          "output_type": "stream",
          "name": "stdout",
          "text": [
            "Nota 0: 8\n",
            "Nota 1: 7\n",
            "Nota 2: 10\n",
            "Nota 3: 8\n",
            "Nota 4: 9\n",
            "Nota 0:   8.00 \n",
            "Nota 1:   7.00 \n",
            "Nota 2:  10.00 \n",
            "Nota 3:   8.00 \n",
            "Nota 4:   9.00 \n",
            "Média:  8.4\n"
          ]
        }
      ]
    },
    {
      "cell_type": "code",
      "source": [
        "nota = [0,0,0,0,0,0,0]\n",
        "soma = 0\n",
        "x = 0\n",
        "while x < 7:\n",
        "  notas[x]=float(input(\"Digite a nota %d: \"%x))\n",
        "  soma = soma + notas[x]\n",
        "  x = x + 1\n",
        "x=0\n",
        "while x < 7:\n",
        "  print(\"Nota %d: %5.2f \" %(x,notas[x]))\n",
        "  x = x + 1\n",
        "print(\"A média é de: \", (soma/x))"
      ],
      "metadata": {
        "colab": {
          "base_uri": "https://localhost:8080/"
        },
        "id": "xgbornGNx4Pz",
        "outputId": "85459221-52dc-483b-ab36-dd6af3441453"
      },
      "execution_count": 31,
      "outputs": [
        {
          "output_type": "stream",
          "name": "stdout",
          "text": [
            "Digite a nota 0: 1\n",
            "Digite a nota 1: 2\n",
            "Digite a nota 2: 3\n",
            "Digite a nota 3: 4\n",
            "Digite a nota 4: 5\n",
            "Digite a nota 5: 6\n",
            "Digite a nota 6: 7\n",
            "Nota 0:  1.00 \n",
            "Nota 1:  2.00 \n",
            "Nota 2:  3.00 \n",
            "Nota 3:  4.00 \n",
            "Nota 4:  5.00 \n",
            "Nota 5:  6.00 \n",
            "Nota 6:  7.00 \n",
            "A média é de:  4.0\n"
          ]
        }
      ]
    },
    {
      "cell_type": "code",
      "source": [
        "#apresentação de números\n",
        "numeros = [0,0,0,0]\n",
        "x = 0\n",
        "while x < 4:\n",
        "  numeros[x] = int(input(\"Digite o %d número: \" %(x+1)))\n",
        "  x = x + 1\n",
        "while True:\n",
        "  escolhido = int(input(\"Qual posição para imprimir (0 para sair):\"))\n",
        "  if escolhido == 0:\n",
        "    break\n",
        "  print(\"Você escolheu o numero: %d\" %(numeros[escolhido-1]))"
      ],
      "metadata": {
        "colab": {
          "base_uri": "https://localhost:8080/"
        },
        "id": "unKqYvmY0-He",
        "outputId": "1bfef457-d091-4f30-9d60-9965eb3927d7"
      },
      "execution_count": 35,
      "outputs": [
        {
          "name": "stdout",
          "output_type": "stream",
          "text": [
            "Digite o 1 número: 1\n",
            "Digite o 2 número: 2\n",
            "Digite o 3 número: 3\n",
            "Digite o 4 número: 4\n",
            "Qual posição para imprimir (0 para sair):1\n",
            "Você escolheu o numero: 1\n",
            "Qual posição para imprimir (0 para sair):2\n",
            "Você escolheu o numero: 2\n",
            "Qual posição para imprimir (0 para sair):3\n",
            "Você escolheu o numero: 3\n",
            "Qual posição para imprimir (0 para sair):4\n",
            "Você escolheu o numero: 4\n",
            "Qual posição para imprimir (0 para sair):0\n"
          ]
        }
      ]
    },
    {
      "cell_type": "code",
      "source": [
        "l=[1,2,3,4,5]\n",
        "l"
      ],
      "metadata": {
        "colab": {
          "base_uri": "https://localhost:8080/"
        },
        "id": "7f-4CyV83RJZ",
        "outputId": "b80a53ba-49d9-4434-d8e8-55fcbf21e156"
      },
      "execution_count": 36,
      "outputs": [
        {
          "output_type": "execute_result",
          "data": {
            "text/plain": [
              "[1, 2, 3, 4, 5]"
            ]
          },
          "metadata": {},
          "execution_count": 36
        }
      ]
    },
    {
      "cell_type": "code",
      "source": [
        "v = l\n",
        "v"
      ],
      "metadata": {
        "colab": {
          "base_uri": "https://localhost:8080/"
        },
        "id": "mX0oCh0y3Wi1",
        "outputId": "df43df6f-c649-47a4-82ac-7d9a42d2211a"
      },
      "execution_count": 37,
      "outputs": [
        {
          "output_type": "execute_result",
          "data": {
            "text/plain": [
              "[1, 2, 3, 4, 5]"
            ]
          },
          "metadata": {},
          "execution_count": 37
        }
      ]
    },
    {
      "cell_type": "code",
      "source": [
        "v[0]=6\n",
        "v"
      ],
      "metadata": {
        "colab": {
          "base_uri": "https://localhost:8080/"
        },
        "id": "SrQJ6BJs3a8-",
        "outputId": "327ed597-7a56-4470-9334-537d94ca4aa1"
      },
      "execution_count": 38,
      "outputs": [
        {
          "output_type": "execute_result",
          "data": {
            "text/plain": [
              "[6, 2, 3, 4, 5]"
            ]
          },
          "metadata": {},
          "execution_count": 38
        }
      ]
    },
    {
      "cell_type": "code",
      "source": [
        "l"
      ],
      "metadata": {
        "colab": {
          "base_uri": "https://localhost:8080/"
        },
        "id": "uvZY3QwE3had",
        "outputId": "d2eab298-b018-45e7-9281-44f14320002c"
      },
      "execution_count": 39,
      "outputs": [
        {
          "output_type": "execute_result",
          "data": {
            "text/plain": [
              "[6, 2, 3, 4, 5]"
            ]
          },
          "metadata": {},
          "execution_count": 39
        }
      ]
    },
    {
      "cell_type": "code",
      "source": [
        "m=[10,20,30]\n",
        "m"
      ],
      "metadata": {
        "colab": {
          "base_uri": "https://localhost:8080/"
        },
        "id": "u2DB2l753vPu",
        "outputId": "4a16329d-10b7-487a-b624-a73c661cf0d1"
      },
      "execution_count": 40,
      "outputs": [
        {
          "output_type": "execute_result",
          "data": {
            "text/plain": [
              "[10, 20, 30]"
            ]
          },
          "metadata": {},
          "execution_count": 40
        }
      ]
    },
    {
      "cell_type": "code",
      "source": [
        "n = m[:]\n",
        "n[0]=6"
      ],
      "metadata": {
        "id": "2v53hDXL31hQ"
      },
      "execution_count": 47,
      "outputs": []
    },
    {
      "cell_type": "code",
      "source": [
        "m"
      ],
      "metadata": {
        "colab": {
          "base_uri": "https://localhost:8080/"
        },
        "id": "4SndNpXn4aai",
        "outputId": "72ea5c8d-0dc4-4e4d-f1f5-88b8a39673b6"
      },
      "execution_count": 48,
      "outputs": [
        {
          "output_type": "execute_result",
          "data": {
            "text/plain": [
              "[10, 20, 30]"
            ]
          },
          "metadata": {},
          "execution_count": 48
        }
      ]
    },
    {
      "cell_type": "code",
      "source": [
        "n"
      ],
      "metadata": {
        "colab": {
          "base_uri": "https://localhost:8080/"
        },
        "id": "rMnKv2Gk4bnT",
        "outputId": "a34913bd-fc66-48b9-fec6-ba7c186c80da"
      },
      "execution_count": 50,
      "outputs": [
        {
          "output_type": "execute_result",
          "data": {
            "text/plain": [
              "[6, 20, 30]"
            ]
          },
          "metadata": {},
          "execution_count": 50
        }
      ]
    },
    {
      "cell_type": "code",
      "source": [
        "len(n)"
      ],
      "metadata": {
        "colab": {
          "base_uri": "https://localhost:8080/"
        },
        "id": "NtqcLwz349tV",
        "outputId": "e2c399e2-93e5-43be-d3cd-8f15ccb639ae"
      },
      "execution_count": 51,
      "outputs": [
        {
          "output_type": "execute_result",
          "data": {
            "text/plain": [
              "3"
            ]
          },
          "metadata": {},
          "execution_count": 51
        }
      ]
    },
    {
      "cell_type": "code",
      "source": [
        "l=[1,2,3]\n",
        "x = 0\n",
        "while x < 3:\n",
        "  print(l[x])\n",
        "  x = x + 1"
      ],
      "metadata": {
        "colab": {
          "base_uri": "https://localhost:8080/"
        },
        "id": "q37yXsdo5VpC",
        "outputId": "fcd70ec9-661d-40a0-f6ea-502be8ddc9cb"
      },
      "execution_count": 52,
      "outputs": [
        {
          "output_type": "stream",
          "name": "stdout",
          "text": [
            "1\n",
            "2\n",
            "3\n"
          ]
        }
      ]
    },
    {
      "cell_type": "code",
      "source": [
        "k=[1,2,3,4,5,6,7,8,9,10]\n",
        "x = 0\n",
        "while x < len(k):\n",
        "  print(k[x])\n",
        "  x = x + 1"
      ],
      "metadata": {
        "colab": {
          "base_uri": "https://localhost:8080/"
        },
        "id": "9OwNGLuq5iKp",
        "outputId": "33720acc-7203-432e-92f5-e5b7f217728d"
      },
      "execution_count": 54,
      "outputs": [
        {
          "output_type": "stream",
          "name": "stdout",
          "text": [
            "1\n",
            "2\n",
            "3\n",
            "4\n",
            "5\n",
            "6\n",
            "7\n",
            "8\n",
            "9\n",
            "10\n"
          ]
        }
      ]
    }
  ]
}