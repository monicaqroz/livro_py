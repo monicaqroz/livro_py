{
  "nbformat": 4,
  "nbformat_minor": 0,
  "metadata": {
    "colab": {
      "name": "Livro_Nilo_Testes_dia_7.ipynb",
      "provenance": [],
      "authorship_tag": "ABX9TyMojcn1mxqOluUVuQZM64c5",
      "include_colab_link": true
    },
    "kernelspec": {
      "name": "python3",
      "display_name": "Python 3"
    },
    "language_info": {
      "name": "python"
    }
  },
  "cells": [
    {
      "cell_type": "markdown",
      "metadata": {
        "id": "view-in-github",
        "colab_type": "text"
      },
      "source": [
        "<a href=\"https://colab.research.google.com/github/monicaqroz/livro_py/blob/main/Livro_Nilo_Testes_dia_7.ipynb\" target=\"_parent\"><img src=\"https://colab.research.google.com/assets/colab-badge.svg\" alt=\"Open In Colab\"/></a>"
      ]
    },
    {
      "cell_type": "code",
      "execution_count": 1,
      "metadata": {
        "colab": {
          "base_uri": "https://localhost:8080/"
        },
        "id": "HZmxaNVy1rhr",
        "outputId": "f31f3c05-555e-4c79-d7df-29bed00808a0"
      },
      "outputs": [
        {
          "output_type": "stream",
          "name": "stdout",
          "text": [
            "Digite o 1 número para somar: 1\n",
            "Digite o 2 número para somar: 2\n",
            "Digite o 3 número para somar: 3\n",
            "Digite o 4 número para somar: 4\n",
            "Digite o 5 número para somar: 5\n",
            "Digite o 6 número para somar: 6\n",
            "Digite o 7 número para somar: 7\n",
            "Digite o 8 número para somar: 8\n",
            "Digite o 9 número para somar: 9\n",
            "Digite o 10 número para somar: 10\n",
            "Soma: 55\n"
          ]
        }
      ],
      "source": [
        "#acumuladores\n",
        "#soma de 10 números\n",
        "\n",
        "n = 1\n",
        "soma = 0\n",
        "while n <= 10:\n",
        "  x = int(input(\"Digite o %d número para somar: \" %n))\n",
        "  soma = soma + n \n",
        "  n = n + 1 \n",
        "print(\"Soma: %d\" %soma)"
      ]
    },
    {
      "cell_type": "code",
      "source": [
        "#media com acumulador\n",
        "x = 1\n",
        "soma = 0\n",
        "while x <= 5:\n",
        "  n = int(input(\"%d Digite o número: \" %x))\n",
        "  soma = soma + x\n",
        "  x = x + 1\n",
        "print(\"A média foi de: %5.2f\" %(soma/5))"
      ],
      "metadata": {
        "colab": {
          "base_uri": "https://localhost:8080/"
        },
        "id": "dfo2itBh3LAd",
        "outputId": "02b59572-f941-4cf8-91fd-4b9615db711a"
      },
      "execution_count": 4,
      "outputs": [
        {
          "output_type": "stream",
          "name": "stdout",
          "text": [
            "1 Digite o número: 1\n",
            "2 Digite o número: 2\n",
            "3 Digite o número: 3\n",
            "4 Digite o número: 4\n",
            "5 Digite o número: 5\n",
            "A média foi de:  3.00\n"
          ]
        }
      ]
    },
    {
      "cell_type": "code",
      "source": [
        "#programa que pergunte o deposito inicial e taxa juros poupança\n",
        "#exiba valor mes a mes para 12 meses \n",
        "#exiba valor total de ganho com juros \n",
        "deposito_inicial = float(input(\"Qual o valor de depósito inicial: \"))\n",
        "taxa = float(input(\"Qual o valor da taxa de juros mensal: \"))\n",
        "begin = deposito_inicial\n",
        "x = 0\n",
        "while x <= 12:\n",
        "  begin = (begin * taxa/100) + begin\n",
        "  x = x + 1\n",
        "  print(\"%d mês: \" %x , \"valor de %5.2f \" %begin)\n",
        "  total = begin - deposito_inicial\n",
        "print(\"O total de juros foi de %5.2f \" %total)"
      ],
      "metadata": {
        "colab": {
          "base_uri": "https://localhost:8080/"
        },
        "id": "dNNYsgKQ4BK-",
        "outputId": "43683d64-3af5-4021-8677-f4c4c1b0b8b8"
      },
      "execution_count": 30,
      "outputs": [
        {
          "output_type": "stream",
          "name": "stdout",
          "text": [
            "Qual o valor de depósito inicial: 1000\n",
            "Qual o valor da taxa de juros mensal: 2.5\n",
            "1 mês:  valor de 1025.00 \n",
            "2 mês:  valor de 1050.62 \n",
            "3 mês:  valor de 1076.89 \n",
            "4 mês:  valor de 1103.81 \n",
            "5 mês:  valor de 1131.41 \n",
            "6 mês:  valor de 1159.69 \n",
            "7 mês:  valor de 1188.69 \n",
            "8 mês:  valor de 1218.40 \n",
            "9 mês:  valor de 1248.86 \n",
            "10 mês:  valor de 1280.08 \n",
            "11 mês:  valor de 1312.09 \n",
            "12 mês:  valor de 1344.89 \n",
            "13 mês:  valor de 1378.51 \n",
            "O total de juros foi de 378.51 \n"
          ]
        }
      ]
    },
    {
      "cell_type": "code",
      "source": [
        "#deposito mensal na poupança \n",
        "x = 0\n",
        "juros = 0\n",
        "soma = 0\n",
        "soma_deposito = 0\n",
        "while x <= 2:\n",
        "  deposito_mensal = float(input(\"Digite o valor do depósito mensal: \"))\n",
        "  taxa = float(input(\"Digite o valor da taxa de juros do mês: \"))\n",
        "  juros_tot_mensal = (deposito_mensal * (taxa/100)) \n",
        "  soma = soma + juros_tot_mensal\n",
        "  soma_deposito = soma_deposito + deposito_mensal\n",
        "  x = x + 1 \n",
        "  print(\"O valor de juros no mês é de: \", juros_tot_mensal)\n",
        "  print(\"Em conta você tem: \", juros_tot_mensal + soma_deposito)\n",
        "  print(\"O total de juros no período é de: \", soma)"
      ],
      "metadata": {
        "colab": {
          "base_uri": "https://localhost:8080/"
        },
        "id": "Zp18RyMb984_",
        "outputId": "3c8cde9b-4de9-4706-9fe7-b9d72fe23841"
      },
      "execution_count": 38,
      "outputs": [
        {
          "output_type": "stream",
          "name": "stdout",
          "text": [
            "Digite o valor do depósito mensal: 1000\n",
            "Digite o valor da taxa de juros do mês: 2\n",
            "O valor de juros no mês é de:  20.0\n",
            "Em conta você tem:  1020.0\n",
            "O total de juros no período é de:  20.0\n",
            "Digite o valor do depósito mensal: 1000\n",
            "Digite o valor da taxa de juros do mês: 3\n",
            "O valor de juros no mês é de:  30.0\n",
            "Em conta você tem:  2030.0\n",
            "O total de juros no período é de:  50.0\n",
            "Digite o valor do depósito mensal: 1000\n",
            "Digite o valor da taxa de juros do mês: 2\n",
            "O valor de juros no mês é de:  20.0\n",
            "Em conta você tem:  3020.0\n",
            "O total de juros no período é de:  70.0\n"
          ]
        }
      ]
    },
    {
      "cell_type": "code",
      "source": [
        "#interrompendo \n",
        "s = 0\n",
        "while True :\n",
        "  v = int(input(\"Digite um número para somar ou 0 para sair: \"))\n",
        "  if v == 0:\n",
        "    break\n",
        "  s = s + v \n",
        "print(s)"
      ],
      "metadata": {
        "colab": {
          "base_uri": "https://localhost:8080/"
        },
        "id": "Ej9dn7miCWnp",
        "outputId": "6af4e5bc-8cc6-4d74-e745-e11a7b73a2a0"
      },
      "execution_count": 40,
      "outputs": [
        {
          "output_type": "stream",
          "name": "stdout",
          "text": [
            "Digite um número para somar ou 0 para sair: 10\n",
            "Digite um número para somar ou 0 para sair: 20\n",
            "Digite um número para somar ou 0 para sair: 0\n",
            "30\n"
          ]
        }
      ]
    },
    {
      "cell_type": "code",
      "source": [
        "#escreva um programa que leia números do teclado até digitar 0\n",
        "#quantidade de numeros digitados + soma + media \n",
        "cont = 0\n",
        "soma = 0\n",
        "while True:\n",
        "  num = int(input(\"Digite números para estatística ou 0 para sair: \"))\n",
        "  if num == 0:\n",
        "    break\n",
        "  cont = cont + 1\n",
        "  soma = soma + num \n",
        "print(\"Foram digitados %d números\" %cont, \"a soma foi de %5.2f\" %soma, \"a média é de: %5.2f\" %(soma/cont))"
      ],
      "metadata": {
        "colab": {
          "base_uri": "https://localhost:8080/"
        },
        "id": "F4ryhBCAC_2z",
        "outputId": "dbe5772d-9d48-4ead-efbc-95089e94f9ad"
      },
      "execution_count": 50,
      "outputs": [
        {
          "output_type": "stream",
          "name": "stdout",
          "text": [
            "Digite números para estatística ou 0 para sair: 100\n",
            "Digite números para estatística ou 0 para sair: 200\n",
            "Digite números para estatística ou 0 para sair: 0\n",
            "Foram digitados 2 números a soma foi de 300.00 a média é de: 150.00\n"
          ]
        }
      ]
    }
  ]
}