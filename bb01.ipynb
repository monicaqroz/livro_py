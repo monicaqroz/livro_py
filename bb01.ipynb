{
  "nbformat": 4,
  "nbformat_minor": 0,
  "metadata": {
    "colab": {
      "provenance": [],
      "authorship_tag": "ABX9TyMC42XenF0mu9KjLOxW6o2k",
      "include_colab_link": true
    },
    "kernelspec": {
      "name": "python3",
      "display_name": "Python 3"
    },
    "language_info": {
      "name": "python"
    }
  },
  "cells": [
    {
      "cell_type": "markdown",
      "metadata": {
        "id": "view-in-github",
        "colab_type": "text"
      },
      "source": [
        "<a href=\"https://colab.research.google.com/github/monicaqroz/livro_py/blob/main/bb01.ipynb\" target=\"_parent\"><img src=\"https://colab.research.google.com/assets/colab-badge.svg\" alt=\"Open In Colab\"/></a>"
      ]
    },
    {
      "cell_type": "code",
      "execution_count": 2,
      "metadata": {
        "colab": {
          "base_uri": "https://localhost:8080/"
        },
        "id": "YoRv8GHy2hax",
        "outputId": "2764eb1c-dfe7-413f-ceff-0d1f0f657a4c"
      },
      "outputs": [
        {
          "output_type": "execute_result",
          "data": {
            "text/plain": [
              "5"
            ]
          },
          "metadata": {},
          "execution_count": 2
        }
      ],
      "source": [
        "2+3"
      ]
    },
    {
      "cell_type": "code",
      "source": [
        "5-3"
      ],
      "metadata": {
        "colab": {
          "base_uri": "https://localhost:8080/"
        },
        "id": "EWKDDVVE-E-h",
        "outputId": "979ddc44-e281-4d7e-fbb3-6981d84f9a59"
      },
      "execution_count": 3,
      "outputs": [
        {
          "output_type": "execute_result",
          "data": {
            "text/plain": [
              "2"
            ]
          },
          "metadata": {},
          "execution_count": 3
        }
      ]
    },
    {
      "cell_type": "code",
      "source": [
        "#exe\n",
        "#converta  as expressões matemáticas para python\n",
        "a = ( 10 + (20 * 30))\n",
        "print(a)"
      ],
      "metadata": {
        "colab": {
          "base_uri": "https://localhost:8080/"
        },
        "id": "rseD-txx-Ont",
        "outputId": "a5aa615e-7dea-4908-f8d9-f171dba8a629"
      },
      "execution_count": 4,
      "outputs": [
        {
          "output_type": "stream",
          "name": "stdout",
          "text": [
            "610\n"
          ]
        }
      ]
    },
    {
      "cell_type": "code",
      "source": [
        "a = 2\n",
        "b = 3\n",
        "print(a + b)"
      ],
      "metadata": {
        "colab": {
          "base_uri": "https://localhost:8080/"
        },
        "id": "HymbauKv_B80",
        "outputId": "084106ba-2ee2-41ea-9bf0-ec19b86b5fcb"
      },
      "execution_count": 5,
      "outputs": [
        {
          "output_type": "stream",
          "name": "stdout",
          "text": [
            "5\n"
          ]
        }
      ]
    },
    {
      "cell_type": "code",
      "source": [
        "salario = 1500\n",
        "aumento = 5\n",
        "print(salario + (salario * aumento/100))"
      ],
      "metadata": {
        "colab": {
          "base_uri": "https://localhost:8080/"
        },
        "id": "fmPZansy_MDY",
        "outputId": "1422eef1-5a52-49a4-cef9-bab30225a1b4"
      },
      "execution_count": 6,
      "outputs": [
        {
          "output_type": "stream",
          "name": "stdout",
          "text": [
            "1575.0\n"
          ]
        }
      ]
    },
    {
      "cell_type": "code",
      "source": [
        "#exe\n",
        "#faça um programa que exiba seu nome na tela \n",
        "print(\"Mônica Queiroz\")"
      ],
      "metadata": {
        "colab": {
          "base_uri": "https://localhost:8080/"
        },
        "id": "wXsebJa7_ZdG",
        "outputId": "a00e59e6-4dfa-4c79-e02c-f366879c1ec1"
      },
      "execution_count": 7,
      "outputs": [
        {
          "output_type": "stream",
          "name": "stdout",
          "text": [
            "Mônica Queiroz\n"
          ]
        }
      ]
    },
    {
      "cell_type": "code",
      "source": [
        "nome = str(input(\"Qual seu nome? \"))\n",
        "print(\"Seu nome é \", nome)"
      ],
      "metadata": {
        "colab": {
          "base_uri": "https://localhost:8080/"
        },
        "id": "2cYXV3Vt_lQJ",
        "outputId": "1d9bd82c-85f2-449c-acda-2e1091612f8b"
      },
      "execution_count": 8,
      "outputs": [
        {
          "output_type": "stream",
          "name": "stdout",
          "text": [
            "Qual seu nome? Mônica Queiroz\n",
            "Seu nome é  Mônica Queiroz\n"
          ]
        }
      ]
    },
    {
      "cell_type": "code",
      "source": [
        "#exe\n",
        "#escreva um programa que exiba o resultado de 2a * 3b, onde a vale 3 e b vale 5\n",
        "a = 3\n",
        "b = 5\n",
        "tot = ((2 * a)*(3 * b))\n",
        "print(tot)"
      ],
      "metadata": {
        "colab": {
          "base_uri": "https://localhost:8080/"
        },
        "id": "L_lESykm_1KH",
        "outputId": "9faded0a-12a0-4615-ec8f-8adc0f6599ff"
      },
      "execution_count": 11,
      "outputs": [
        {
          "output_type": "stream",
          "name": "stdout",
          "text": [
            "90\n"
          ]
        }
      ]
    },
    {
      "cell_type": "code",
      "source": [
        "#exe\n",
        "#crie um programa para a soma de tres variáveis \n",
        "a = 10\n",
        "b = 20\n",
        "c = 30\n",
        "soma = (a + b + c)\n",
        "print(soma)"
      ],
      "metadata": {
        "colab": {
          "base_uri": "https://localhost:8080/"
        },
        "id": "GTtGPKQKAUeR",
        "outputId": "fc61915a-e172-475e-daef-f68a907362fb"
      },
      "execution_count": 12,
      "outputs": [
        {
          "output_type": "stream",
          "name": "stdout",
          "text": [
            "60\n"
          ]
        }
      ]
    },
    {
      "cell_type": "code",
      "source": [
        "a = float(input(\"Digite o valor da primeira variável: \"))\n",
        "b = float(input(\"Digite o valor da segunda variável: \"))\n",
        "c = float(input(\"Digite o valor da terceira variável: \"))\n",
        "soma = (a + b + c)\n",
        "print(soma)"
      ],
      "metadata": {
        "colab": {
          "base_uri": "https://localhost:8080/"
        },
        "id": "fqCEAhqYAfKS",
        "outputId": "4dea9f91-0780-482f-c936-119a438d7eaa"
      },
      "execution_count": 13,
      "outputs": [
        {
          "output_type": "stream",
          "name": "stdout",
          "text": [
            "Digite o valor da primeira variável: 100\n",
            "Digite o valor da segunda variável: 200\n",
            "Digite o valor da terceira variável: 300\n",
            "600.0\n"
          ]
        }
      ]
    },
    {
      "cell_type": "code",
      "source": [
        "#calcule um aumento de 15% para um salario de 750 reais \n",
        "salario = 750\n",
        "aumento = 15\n",
        "aumento_sal = (salario * aumento/100)\n",
        "print(\"O aumento de salário foi de:\", aumento_sal)\n",
        "salario_novo = (salario + aumento_sal)\n",
        "print(\"O novo salário com o aumento será de : \", salario_novo)"
      ],
      "metadata": {
        "colab": {
          "base_uri": "https://localhost:8080/"
        },
        "id": "v3jYMBVyBF5h",
        "outputId": "0783b3a6-ea59-4c1a-fdab-5a51208097f0"
      },
      "execution_count": 15,
      "outputs": [
        {
          "output_type": "stream",
          "name": "stdout",
          "text": [
            "O aumento de salário foi de: 112.5\n",
            "O novo salário com o aumento será de :  862.5\n"
          ]
        }
      ]
    }
  ]
}