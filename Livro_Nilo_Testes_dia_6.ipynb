{
  "nbformat": 4,
  "nbformat_minor": 0,
  "metadata": {
    "colab": {
      "name": "Livro_Nilo_Testes_dia_6.ipynb",
      "provenance": [],
      "authorship_tag": "ABX9TyMTMCjzxMugJq0oMn3zabd0",
      "include_colab_link": true
    },
    "kernelspec": {
      "name": "python3",
      "display_name": "Python 3"
    },
    "language_info": {
      "name": "python"
    }
  },
  "cells": [
    {
      "cell_type": "markdown",
      "metadata": {
        "id": "view-in-github",
        "colab_type": "text"
      },
      "source": [
        "<a href=\"https://colab.research.google.com/github/monicaqroz/livro_py/blob/main/Livro_Nilo_Testes_dia_6.ipynb\" target=\"_parent\"><img src=\"https://colab.research.google.com/assets/colab-badge.svg\" alt=\"Open In Colab\"/></a>"
      ]
    },
    {
      "cell_type": "code",
      "execution_count": 1,
      "metadata": {
        "colab": {
          "base_uri": "https://localhost:8080/"
        },
        "id": "PyAGhTsD_T9F",
        "outputId": "994d1ccf-3736-4744-8673-3e88390fdfaf"
      },
      "outputs": [
        {
          "output_type": "stream",
          "name": "stdout",
          "text": [
            "1\n",
            "2\n",
            "3\n"
          ]
        }
      ],
      "source": [
        "x = 1\n",
        "while x <= 3:\n",
        "  print(x)\n",
        "  x = x + 1"
      ]
    },
    {
      "cell_type": "code",
      "source": [
        "# programa para repetir até 100\n",
        "x = 1\n",
        "while x <= 100:\n",
        "  print(x)\n",
        "  x = x + 1"
      ],
      "metadata": {
        "colab": {
          "base_uri": "https://localhost:8080/"
        },
        "id": "H_dxCrGr_3AB",
        "outputId": "9770deb9-b47b-4c9d-db30-3580e56fa0f4"
      },
      "execution_count": 2,
      "outputs": [
        {
          "output_type": "stream",
          "name": "stdout",
          "text": [
            "1\n",
            "2\n",
            "3\n",
            "4\n",
            "5\n",
            "6\n",
            "7\n",
            "8\n",
            "9\n",
            "10\n",
            "11\n",
            "12\n",
            "13\n",
            "14\n",
            "15\n",
            "16\n",
            "17\n",
            "18\n",
            "19\n",
            "20\n",
            "21\n",
            "22\n",
            "23\n",
            "24\n",
            "25\n",
            "26\n",
            "27\n",
            "28\n",
            "29\n",
            "30\n",
            "31\n",
            "32\n",
            "33\n",
            "34\n",
            "35\n",
            "36\n",
            "37\n",
            "38\n",
            "39\n",
            "40\n",
            "41\n",
            "42\n",
            "43\n",
            "44\n",
            "45\n",
            "46\n",
            "47\n",
            "48\n",
            "49\n",
            "50\n",
            "51\n",
            "52\n",
            "53\n",
            "54\n",
            "55\n",
            "56\n",
            "57\n",
            "58\n",
            "59\n",
            "60\n",
            "61\n",
            "62\n",
            "63\n",
            "64\n",
            "65\n",
            "66\n",
            "67\n",
            "68\n",
            "69\n",
            "70\n",
            "71\n",
            "72\n",
            "73\n",
            "74\n",
            "75\n",
            "76\n",
            "77\n",
            "78\n",
            "79\n",
            "80\n",
            "81\n",
            "82\n",
            "83\n",
            "84\n",
            "85\n",
            "86\n",
            "87\n",
            "88\n",
            "89\n",
            "90\n",
            "91\n",
            "92\n",
            "93\n",
            "94\n",
            "95\n",
            "96\n",
            "97\n",
            "98\n",
            "99\n",
            "100\n"
          ]
        }
      ]
    },
    {
      "cell_type": "code",
      "source": [
        "# programa para exibir de 50 a 100\n",
        "x = 50\n",
        "while x <= 100:\n",
        "  print(x)\n",
        "  x = x + 1"
      ],
      "metadata": {
        "colab": {
          "base_uri": "https://localhost:8080/"
        },
        "id": "Pr5Ny-_IAJzs",
        "outputId": "9b05cc00-d724-44aa-b724-b2111e924b43"
      },
      "execution_count": 3,
      "outputs": [
        {
          "output_type": "stream",
          "name": "stdout",
          "text": [
            "50\n",
            "51\n",
            "52\n",
            "53\n",
            "54\n",
            "55\n",
            "56\n",
            "57\n",
            "58\n",
            "59\n",
            "60\n",
            "61\n",
            "62\n",
            "63\n",
            "64\n",
            "65\n",
            "66\n",
            "67\n",
            "68\n",
            "69\n",
            "70\n",
            "71\n",
            "72\n",
            "73\n",
            "74\n",
            "75\n",
            "76\n",
            "77\n",
            "78\n",
            "79\n",
            "80\n",
            "81\n",
            "82\n",
            "83\n",
            "84\n",
            "85\n",
            "86\n",
            "87\n",
            "88\n",
            "89\n",
            "90\n",
            "91\n",
            "92\n",
            "93\n",
            "94\n",
            "95\n",
            "96\n",
            "97\n",
            "98\n",
            "99\n",
            "100\n"
          ]
        }
      ]
    },
    {
      "cell_type": "code",
      "source": [
        "# programa para contagem regressiva de 10 a 0 e Fogo!\n",
        "x = 10\n",
        "while x >= 0:\n",
        "  print(x)\n",
        "  x = x - 1 \n",
        "print(\"Fogo!\")"
      ],
      "metadata": {
        "colab": {
          "base_uri": "https://localhost:8080/"
        },
        "id": "IAx7822jAXB7",
        "outputId": "d02d9174-4058-4d87-ba77-fc544bb271ee"
      },
      "execution_count": 8,
      "outputs": [
        {
          "output_type": "stream",
          "name": "stdout",
          "text": [
            "10\n",
            "9\n",
            "8\n",
            "7\n",
            "6\n",
            "5\n",
            "4\n",
            "3\n",
            "2\n",
            "1\n",
            "0\n",
            "Fogo!\n"
          ]
        }
      ]
    },
    {
      "cell_type": "code",
      "source": [
        "fim = int(input(\"Digite o último número a imprimir: \"))\n",
        "x = 1\n",
        "while x <= fim:\n",
        "  print(x)\n",
        "  x = x + 1"
      ],
      "metadata": {
        "colab": {
          "base_uri": "https://localhost:8080/"
        },
        "id": "9Yteg8leA_mq",
        "outputId": "eb3fe33c-84fc-4c59-ed87-6ad8dcb346fd"
      },
      "execution_count": 9,
      "outputs": [
        {
          "output_type": "stream",
          "name": "stdout",
          "text": [
            "Digite o último número a imprimir: 8\n",
            "1\n",
            "2\n",
            "3\n",
            "4\n",
            "5\n",
            "6\n",
            "7\n",
            "8\n"
          ]
        }
      ]
    },
    {
      "cell_type": "code",
      "source": [
        "#impressão números pares até o valor digitado pelo usuário \n",
        "\n",
        "fim = int(input(\"Digite o último número a imprimir: \"))\n",
        "x = 0\n",
        "while x <= fim:\n",
        "  if x % 2 == 0:\n",
        "    print(x)\n",
        "  x = x + 1"
      ],
      "metadata": {
        "colab": {
          "base_uri": "https://localhost:8080/"
        },
        "id": "8Hcf0iDbBbsL",
        "outputId": "46b74faa-1a5f-4dfc-bcd3-1d1317fb7b4e"
      },
      "execution_count": 10,
      "outputs": [
        {
          "output_type": "stream",
          "name": "stdout",
          "text": [
            "Digite o último número a imprimir: 10\n",
            "0\n",
            "2\n",
            "4\n",
            "6\n",
            "8\n",
            "10\n"
          ]
        }
      ]
    },
    {
      "cell_type": "code",
      "source": [
        "#impressão números impares até o valor digitado pelo usuário \n",
        "\n",
        "fim = int(input(\"Digite o último número a imprimir: \"))\n",
        "x = 0\n",
        "while x <= fim:\n",
        "  if x % 2 != 0:\n",
        "    print(x)\n",
        "  x = x + 1"
      ],
      "metadata": {
        "colab": {
          "base_uri": "https://localhost:8080/"
        },
        "id": "hh4BAXKPCCm3",
        "outputId": "23a22631-7f79-47e9-a0ea-33fe98f0ab95"
      },
      "execution_count": 11,
      "outputs": [
        {
          "output_type": "stream",
          "name": "stdout",
          "text": [
            "Digite o último número a imprimir: 10\n",
            "1\n",
            "3\n",
            "5\n",
            "7\n",
            "9\n"
          ]
        }
      ]
    },
    {
      "cell_type": "code",
      "source": [
        "#Tabuada (multiplicação)\n",
        "n = int(input(\"Tabuada do: \"))\n",
        "x = 1\n",
        "while x <= 10:\n",
        "  print(x * n)\n",
        "  x = x + 1 "
      ],
      "metadata": {
        "colab": {
          "base_uri": "https://localhost:8080/"
        },
        "id": "-3PyVm-bCfcB",
        "outputId": "45ce9545-386c-4e09-ec69-9143403696c1"
      },
      "execution_count": 15,
      "outputs": [
        {
          "output_type": "stream",
          "name": "stdout",
          "text": [
            "Tabuada do: 6\n",
            "6\n",
            "12\n",
            "18\n",
            "24\n",
            "30\n",
            "36\n",
            "42\n",
            "48\n",
            "54\n",
            "60\n"
          ]
        }
      ]
    },
    {
      "cell_type": "code",
      "source": [
        "#Tabuada com inicio e fim (multiplicação)\n",
        "n = int(input(\"Tabuada do: \"))\n",
        "inicio = int(input(\"Qual o inicio da Tabuada: \"))\n",
        "fim = int(input(\"WWual o final da tabuada: \"))\n",
        "while inicio <= fim:\n",
        "  print(inicio * n)\n",
        "  inicio = inicio + 1 "
      ],
      "metadata": {
        "colab": {
          "base_uri": "https://localhost:8080/"
        },
        "id": "jthdcyL1DY9j",
        "outputId": "661f2d82-23db-49b4-8922-f08cfe7d4ad3"
      },
      "execution_count": 17,
      "outputs": [
        {
          "output_type": "stream",
          "name": "stdout",
          "text": [
            "Tabuada do: 6\n",
            "Qual o inicio da Tabuada: 3\n",
            "WWual o final da tabuada: 9\n",
            "18\n",
            "24\n",
            "30\n",
            "36\n",
            "42\n",
            "48\n",
            "54\n"
          ]
        }
      ]
    },
    {
      "cell_type": "code",
      "source": [
        "#contagem de questões corretas \n",
        "pontos = 0\n",
        "questao = 1\n",
        "while questao <= 3:\n",
        "  resposta = input(\"Resposta de questão %d: \" %questao)\n",
        "  if questao == 1 and (resposta == \"b\" or resposta == \"B\"):\n",
        "    pontos = pontos + 1\n",
        "  if questao == 2 and (resposta == \"a\" or resposta == \"A\"):\n",
        "    pontos = pontos + 1\n",
        "  if questao == 3 and (resposta == \"d\" or resposta == \"D\"):\n",
        "    pontos = pontos + 1\n",
        "  questao = questao + 1\n",
        "print(\"O aluno fez %d ponto(s)\" %pontos)"
      ],
      "metadata": {
        "colab": {
          "base_uri": "https://localhost:8080/"
        },
        "id": "jet-c1IuERq-",
        "outputId": "1ad104fc-11bd-4f5a-ec67-551bd616b487"
      },
      "execution_count": 26,
      "outputs": [
        {
          "output_type": "stream",
          "name": "stdout",
          "text": [
            "Resposta de questão 1: B\n",
            "Resposta de questão 2: B\n",
            "Resposta de questão 3: B\n",
            "O aluno fez 1 ponto(s)\n"
          ]
        }
      ]
    }
  ]
}