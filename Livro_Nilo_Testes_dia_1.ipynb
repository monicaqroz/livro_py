{
  "nbformat": 4,
  "nbformat_minor": 0,
  "metadata": {
    "colab": {
      "name": "Livro_Nilo_Testes_dia-1.ipynb",
      "provenance": [],
      "authorship_tag": "ABX9TyN2MJWYrhEi094pwZcfCOoz",
      "include_colab_link": true
    },
    "kernelspec": {
      "name": "python3",
      "display_name": "Python 3"
    },
    "language_info": {
      "name": "python"
    }
  },
  "cells": [
    {
      "cell_type": "markdown",
      "metadata": {
        "id": "view-in-github",
        "colab_type": "text"
      },
      "source": [
        "<a href=\"https://colab.research.google.com/github/monicaqroz/livro_py/blob/main/Livro_Nilo_Testes_dia_1.ipynb\" target=\"_parent\"><img src=\"https://colab.research.google.com/assets/colab-badge.svg\" alt=\"Open In Colab\"/></a>"
      ]
    },
    {
      "cell_type": "code",
      "execution_count": null,
      "metadata": {
        "colab": {
          "base_uri": "https://localhost:8080/"
        },
        "id": "f0PYsJP1cs0T",
        "outputId": "286ae86e-3730-4ca9-a7a2-f97b62fcf346"
      },
      "outputs": [
        {
          "output_type": "stream",
          "name": "stdout",
          "text": [
            "Hello World!\n"
          ]
        }
      ],
      "source": [
        "print(\"Hello World!\")"
      ]
    },
    {
      "cell_type": "code",
      "source": [
        "# Faça um programa que exiba seu nome na tela.\n",
        "print(\"Mônica Queiroz\")"
      ],
      "metadata": {
        "colab": {
          "base_uri": "https://localhost:8080/"
        },
        "id": "yUqS8J_tdjdL",
        "outputId": "27d2fe35-67bf-4103-a603-4322c59fdce0"
      },
      "execution_count": null,
      "outputs": [
        {
          "output_type": "stream",
          "name": "stdout",
          "text": [
            "Mônica Queiroz\n"
          ]
        }
      ]
    },
    {
      "cell_type": "code",
      "source": [
        "# Escreva um programa que exiba o resultado de 2a * 2b, onde a = 3 e b = 5\n",
        "a = 3\n",
        "b = 5\n",
        "c = a + b \n",
        "print(c)"
      ],
      "metadata": {
        "colab": {
          "base_uri": "https://localhost:8080/"
        },
        "id": "gaw4Ny9Ed9fC",
        "outputId": "ee22684f-9d2f-4bdc-de39-aa7442f1bc1c"
      },
      "execution_count": null,
      "outputs": [
        {
          "output_type": "stream",
          "name": "stdout",
          "text": [
            "8\n"
          ]
        }
      ]
    },
    {
      "cell_type": "code",
      "source": [
        "# Modifique o primeiro programa, listagem 2.7, de forma a calcular a soma de três variáveis. \n",
        "a = 10\n",
        "b = 20\n",
        "c = 30\n",
        "s = a + b + c\n",
        "print(s)"
      ],
      "metadata": {
        "colab": {
          "base_uri": "https://localhost:8080/"
        },
        "id": "yieggZiceQQ5",
        "outputId": "ae3286e7-dc7c-4d01-fa34-f573f4c1f5d9"
      },
      "execution_count": null,
      "outputs": [
        {
          "output_type": "stream",
          "name": "stdout",
          "text": [
            "60\n"
          ]
        }
      ]
    },
    {
      "cell_type": "code",
      "source": [
        "# Modifique o programa da listagem 2.11, de forma que ele calcule um aumento de 15% para um salário de R$ 750,00.\n",
        "# Use valores inteiros para testar o resultado como 1000 de salário e 10 de aumento!\n",
        "salario = 750\n",
        "aumento = 15\n",
        "novo_salario = (salario + (salario * aumento/100))\n",
        "print(novo_salario)"
      ],
      "metadata": {
        "colab": {
          "base_uri": "https://localhost:8080/"
        },
        "id": "v1EAEUP1ev4s",
        "outputId": "7b213d4a-677f-4f40-bc58-b45ee9df3057"
      },
      "execution_count": null,
      "outputs": [
        {
          "output_type": "stream",
          "name": "stdout",
          "text": [
            "1100.0\n"
          ]
        }
      ]
    }
  ]
}